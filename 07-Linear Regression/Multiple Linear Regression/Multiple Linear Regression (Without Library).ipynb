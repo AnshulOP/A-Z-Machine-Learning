{
 "cells": [
  {
   "cell_type": "markdown",
   "id": "c60238fe",
   "metadata": {},
   "source": [
    "#### Creating Class to call for our Multiple Regression algorithm"
   ]
  },
  {
   "cell_type": "code",
   "execution_count": 1,
   "id": "49a02020",
   "metadata": {},
   "outputs": [],
   "source": [
    "class MyLinearRegression:\n",
    "    \n",
    "    def __init__(self):\n",
    "        self.slope = None\n",
    "        self.intercept = None\n",
    "\n",
    "    def fit(self, x_train, y_train):\n",
    "        x_train = np.insert(x_train, 0, 1, axis=1)\n",
    "        \n",
    "        # calcuate the coeffs\n",
    "        betas = np.linalg.inv(np.dot(x_train.T, x_train)).dot(x_train.T).dot(y_train)\n",
    "        self.intercept = betas[0]\n",
    "        self.slope = betas[1:]\n",
    "    \n",
    "    def predict(self, x_test):\n",
    "        y_pred = np.dot(x_test, self.slope) + self.intercept\n",
    "        return y_pred "
   ]
  },
  {
   "cell_type": "markdown",
   "id": "dfde7ead",
   "metadata": {},
   "source": [
    "#### Importing the Libraries"
   ]
  },
  {
   "cell_type": "code",
   "execution_count": 2,
   "id": "a936baa6",
   "metadata": {},
   "outputs": [],
   "source": [
    "import numpy as np"
   ]
  },
  {
   "cell_type": "markdown",
   "id": "ce6f555c",
   "metadata": {},
   "source": [
    "#### Importing the Dataset"
   ]
  },
  {
   "cell_type": "code",
   "execution_count": 3,
   "id": "b0b12ef2",
   "metadata": {},
   "outputs": [],
   "source": [
    "from sklearn.datasets import load_diabetes"
   ]
  },
  {
   "cell_type": "code",
   "execution_count": 4,
   "id": "e13f42e9",
   "metadata": {},
   "outputs": [],
   "source": [
    "x, y = load_diabetes(return_X_y=True)"
   ]
  },
  {
   "cell_type": "markdown",
   "id": "6771946f",
   "metadata": {},
   "source": [
    "#### Splitting the data into train and test data"
   ]
  },
  {
   "cell_type": "code",
   "execution_count": 5,
   "id": "3adb5e10",
   "metadata": {},
   "outputs": [],
   "source": [
    "from sklearn.model_selection import train_test_split\n",
    "x_train,x_test,y_train,y_test = train_test_split(x,y,test_size=0.25,random_state=10)"
   ]
  },
  {
   "cell_type": "code",
   "execution_count": 6,
   "id": "3800e842",
   "metadata": {},
   "outputs": [
    {
     "data": {
      "text/plain": [
       "(331, 10)"
      ]
     },
     "execution_count": 6,
     "metadata": {},
     "output_type": "execute_result"
    }
   ],
   "source": [
    "x_train.shape"
   ]
  },
  {
   "cell_type": "markdown",
   "id": "52f6a43b",
   "metadata": {},
   "source": [
    "#### Importing self created algorithm class"
   ]
  },
  {
   "cell_type": "code",
   "execution_count": 7,
   "id": "c819607f",
   "metadata": {},
   "outputs": [],
   "source": [
    "regressor = MyLinearRegression()"
   ]
  },
  {
   "cell_type": "code",
   "execution_count": 8,
   "id": "05086b4c",
   "metadata": {},
   "outputs": [],
   "source": [
    "regressor.fit(x_train, y_train)"
   ]
  },
  {
   "cell_type": "markdown",
   "id": "641637b1",
   "metadata": {},
   "source": [
    "#### Predicting test data results using self created algorithm class"
   ]
  },
  {
   "cell_type": "code",
   "execution_count": 9,
   "id": "56de9c07",
   "metadata": {},
   "outputs": [
    {
     "data": {
      "text/plain": [
       "163.70008397761217"
      ]
     },
     "execution_count": 9,
     "metadata": {},
     "output_type": "execute_result"
    }
   ],
   "source": [
    "(regressor.predict(x_test[4]))"
   ]
  },
  {
   "cell_type": "code",
   "execution_count": 10,
   "id": "7679c524",
   "metadata": {},
   "outputs": [],
   "source": [
    "y_pred = (regressor.predict(x_test))"
   ]
  },
  {
   "cell_type": "markdown",
   "id": "b46546b8",
   "metadata": {},
   "source": [
    "#### Evaluating our model Accuracy"
   ]
  },
  {
   "cell_type": "code",
   "execution_count": 11,
   "id": "c2944721",
   "metadata": {},
   "outputs": [
    {
     "data": {
      "text/plain": [
       "0.5282295729430829"
      ]
     },
     "execution_count": 11,
     "metadata": {},
     "output_type": "execute_result"
    }
   ],
   "source": [
    "from sklearn.metrics import r2_score\n",
    "score = r2_score(y_test, y_pred)\n",
    "score"
   ]
  },
  {
   "cell_type": "markdown",
   "id": "fb5dbaf5",
   "metadata": {},
   "source": [
    "#### Checking calculated values fro our created class"
   ]
  },
  {
   "cell_type": "code",
   "execution_count": 14,
   "id": "a6d7d8e6",
   "metadata": {},
   "outputs": [
    {
     "data": {
      "text/plain": [
       "array([   6.78796588, -224.4013712 ,  505.73157297,  319.36324523,\n",
       "       -776.43947486,  396.90360031,  132.81783784,  308.92128511,\n",
       "        689.39487197,   53.88983467])"
      ]
     },
     "execution_count": 14,
     "metadata": {},
     "output_type": "execute_result"
    }
   ],
   "source": [
    "regressor.slope"
   ]
  },
  {
   "cell_type": "code",
   "execution_count": 15,
   "id": "7970a8e5",
   "metadata": {},
   "outputs": [
    {
     "data": {
      "text/plain": [
       "151.79830568842"
      ]
     },
     "execution_count": 15,
     "metadata": {},
     "output_type": "execute_result"
    }
   ],
   "source": [
    "regressor.intercept"
   ]
  }
 ],
 "metadata": {
  "kernelspec": {
   "display_name": "Python 3 (ipykernel)",
   "language": "python",
   "name": "python3"
  },
  "language_info": {
   "codemirror_mode": {
    "name": "ipython",
    "version": 3
   },
   "file_extension": ".py",
   "mimetype": "text/x-python",
   "name": "python",
   "nbconvert_exporter": "python",
   "pygments_lexer": "ipython3",
   "version": "3.9.13"
  }
 },
 "nbformat": 4,
 "nbformat_minor": 5
}
