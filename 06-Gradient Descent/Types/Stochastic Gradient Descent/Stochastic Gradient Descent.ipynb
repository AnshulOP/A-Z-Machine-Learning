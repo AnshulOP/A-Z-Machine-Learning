{
 "cells": [
  {
   "cell_type": "markdown",
   "id": "559fdb71",
   "metadata": {},
   "source": [
    "#### Importing Libraries"
   ]
  },
  {
   "cell_type": "code",
   "execution_count": 1,
   "id": "2f7f15d5",
   "metadata": {},
   "outputs": [],
   "source": [
    "from sklearn.datasets import load_diabetes\n",
    "\n",
    "import pandas as pd\n",
    "import numpy as np\n",
    "import time\n",
    "\n",
    "from sklearn.linear_model import LinearRegression\n",
    "from sklearn.metrics import r2_score"
   ]
  },
  {
   "cell_type": "markdown",
   "id": "4e53b06a",
   "metadata": {},
   "source": [
    "#### Importing the Dataset"
   ]
  },
  {
   "cell_type": "code",
   "execution_count": 2,
   "id": "5624bde0",
   "metadata": {},
   "outputs": [],
   "source": [
    "x,y = load_diabetes(return_X_y=True)"
   ]
  },
  {
   "cell_type": "markdown",
   "id": "ac41baeb",
   "metadata": {},
   "source": [
    "#### Splitting the data into train and test data"
   ]
  },
  {
   "cell_type": "code",
   "execution_count": 3,
   "id": "0a971239",
   "metadata": {},
   "outputs": [],
   "source": [
    "from sklearn.model_selection import train_test_split\n",
    "x_train, x_test, y_train, y_test = train_test_split(x, y, test_size=0.2, random_state=2)"
   ]
  },
  {
   "cell_type": "markdown",
   "id": "9c05bc91",
   "metadata": {},
   "source": [
    "#### Training and finding the values used in the Model using Linear Regression"
   ]
  },
  {
   "cell_type": "code",
   "execution_count": 4,
   "id": "d059ab74",
   "metadata": {},
   "outputs": [
    {
     "data": {
      "text/plain": [
       "LinearRegression()"
      ]
     },
     "execution_count": 4,
     "metadata": {},
     "output_type": "execute_result"
    }
   ],
   "source": [
    "regressor = LinearRegression()\n",
    "regressor.fit(x_train, y_train)"
   ]
  },
  {
   "cell_type": "markdown",
   "id": "00ca42b7",
   "metadata": {},
   "source": [
    "#### #### Accuracy of the model"
   ]
  },
  {
   "cell_type": "code",
   "execution_count": 5,
   "id": "0cdaede1",
   "metadata": {},
   "outputs": [
    {
     "data": {
      "text/plain": [
       "0.4399387660024645"
      ]
     },
     "execution_count": 5,
     "metadata": {},
     "output_type": "execute_result"
    }
   ],
   "source": [
    "y_pred = regressor.predict(x_test)\n",
    "r2_score(y_test, y_pred)"
   ]
  },
  {
   "cell_type": "code",
   "execution_count": 6,
   "id": "762ac41e",
   "metadata": {},
   "outputs": [
    {
     "name": "stdout",
     "output_type": "stream",
     "text": [
      "[  -9.16088483 -205.46225988  516.68462383  340.62734108 -895.54360867\n",
      "  561.21453306  153.88478595  126.73431596  861.12139955   52.41982836]\n",
      "151.88334520854633\n"
     ]
    }
   ],
   "source": [
    "print(regressor.coef_)\n",
    "print(regressor.intercept_)"
   ]
  },
  {
   "cell_type": "markdown",
   "id": "b84dc929",
   "metadata": {},
   "source": [
    "#### Making our own Stochastic Gradient Descent class"
   ]
  },
  {
   "cell_type": "code",
   "execution_count": 7,
   "id": "9a8ec072",
   "metadata": {},
   "outputs": [],
   "source": [
    "class MyStochasticGradientDescent:\n",
    "    \n",
    "    def __init__(self, learning_rate = 0.01, epochs = 100):\n",
    "        # Initialize the coefficients and intercept to None\n",
    "        self.coef_ = None\n",
    "        self.intercept_ = None\n",
    "        # Set the learning rate and number of epochs for training\n",
    "        self.lr = learning_rate\n",
    "        self.epochs = epochs \n",
    "    \n",
    "    def fit(self, x_train, y_train):\n",
    "        # Initialize the intercept to 0 and the coefficients to ones\n",
    "        self.intercept_ = 0\n",
    "        self.coef_ = np.ones(x_train.shape[1])\n",
    "        \n",
    "        for i in range(self.epochs):\n",
    "            for j in range(x_train.shape[0]):\n",
    "                random = np.random.randint(0, x_train.shape[0])\n",
    "                \n",
    "                y_cap = np.dot(x_train[random], self.coef_) + self.intercept_\n",
    "            \n",
    "                # Calculate the derivative of the intercept with respect to the loss function\n",
    "                intercept_derivative = -2 * (y_train[random] - y_cap)\n",
    "                # Update the intercept using the learning rate and derivative\n",
    "                self.intercept_ = self.intercept_ - (self.lr * intercept_derivative)\n",
    "                \n",
    "                coef_derivative = -2 * np.dot((y_train[random] - y_cap), x_train[random])\n",
    "                # Update the coefficients using the learning rate and derivative\n",
    "                self.coef_ = self.coef_ - (self.lr * coef_derivative)\n",
    "            \n",
    "            \n",
    "        # Print the final intercept and coefficients\n",
    "        print(self.intercept_,self.coef_)\n",
    "    \n",
    "    def predict(self, x_test):\n",
    "        # Use the final coefficients and intercept to make predictions on new data\n",
    "        return np.dot(x_test, self.coef_) + self.intercept_\n"
   ]
  },
  {
   "cell_type": "markdown",
   "id": "4a1a19ee",
   "metadata": {},
   "source": [
    "#### Accuracy of Stochastic Gradient Descent class"
   ]
  },
  {
   "cell_type": "code",
   "execution_count": 8,
   "id": "e41ca4ef",
   "metadata": {},
   "outputs": [],
   "source": [
    "regressor2 = MyStochasticGradientDescent(epochs=50, learning_rate=0.01)"
   ]
  },
  {
   "cell_type": "code",
   "execution_count": 9,
   "id": "c016f199",
   "metadata": {},
   "outputs": [
    {
     "name": "stdout",
     "output_type": "stream",
     "text": [
      "152.09302525805234 [  58.29453646  -64.7561116   352.31553522  247.1504275    13.30205731\n",
      "  -34.24924137 -171.67052213  130.37041902  321.62476341  121.53367309]\n",
      "\n",
      "The time taken is 0.5313630104064941\n"
     ]
    }
   ],
   "source": [
    "start = time.time()\n",
    "regressor2.fit(x_train, y_train)\n",
    "print()\n",
    "print(\"The time taken is\", time.time() - start)"
   ]
  },
  {
   "cell_type": "code",
   "execution_count": 10,
   "id": "f3347e56",
   "metadata": {},
   "outputs": [
    {
     "data": {
      "text/plain": [
       "0.4336110277231826"
      ]
     },
     "execution_count": 10,
     "metadata": {},
     "output_type": "execute_result"
    }
   ],
   "source": [
    "y_pred2 = regressor2.predict(x_test)\n",
    "r2_score(y_test, y_pred2)"
   ]
  },
  {
   "cell_type": "code",
   "execution_count": null,
   "id": "e565e043",
   "metadata": {},
   "outputs": [],
   "source": []
  }
 ],
 "metadata": {
  "kernelspec": {
   "display_name": "Python 3 (ipykernel)",
   "language": "python",
   "name": "python3"
  },
  "language_info": {
   "codemirror_mode": {
    "name": "ipython",
    "version": 3
   },
   "file_extension": ".py",
   "mimetype": "text/x-python",
   "name": "python",
   "nbconvert_exporter": "python",
   "pygments_lexer": "ipython3",
   "version": "3.9.13"
  }
 },
 "nbformat": 4,
 "nbformat_minor": 5
}
