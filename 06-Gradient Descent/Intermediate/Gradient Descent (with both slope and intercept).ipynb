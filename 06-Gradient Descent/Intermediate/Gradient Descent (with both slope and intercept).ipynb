{
 "cells": [
  {
   "cell_type": "markdown",
   "id": "4cea5500",
   "metadata": {},
   "source": [
    "#### Importing Libraries"
   ]
  },
  {
   "cell_type": "code",
   "execution_count": 1,
   "id": "b3bcd959",
   "metadata": {},
   "outputs": [],
   "source": [
    "import pandas as pd\n",
    "import numpy as np\n",
    "import matplotlib.pyplot as plt"
   ]
  },
  {
   "cell_type": "markdown",
   "id": "bb21d5a3",
   "metadata": {},
   "source": [
    "#### Creating our own Dataset"
   ]
  },
  {
   "cell_type": "code",
   "execution_count": 2,
   "id": "3cfbe409",
   "metadata": {},
   "outputs": [],
   "source": [
    "from sklearn.datasets import make_regression\n",
    "x,y = make_regression(n_samples=100, n_features=1, n_informative=1, n_targets=1,noise=20,random_state=13)"
   ]
  },
  {
   "cell_type": "markdown",
   "id": "d04508f4",
   "metadata": {},
   "source": [
    "#### Visualising the Data"
   ]
  },
  {
   "cell_type": "code",
   "execution_count": 3,
   "id": "c5dfe459",
   "metadata": {},
   "outputs": [
    {
     "data": {
      "text/plain": [
       "<matplotlib.collections.PathCollection at 0x26dc2698f10>"
      ]
     },
     "execution_count": 3,
     "metadata": {},
     "output_type": "execute_result"
    },
    {
     "data": {
      "image/png": "[encoded data removed]",
      "text/plain": [
       "<Figure size 500x350 with 1 Axes>"
      ]
     },
     "metadata": {},
     "output_type": "display_data"
    }
   ],
   "source": [
    "plt.figure (figsize = (5,3.5))\n",
    "plt.scatter(x,y)"
   ]
  },
  {
   "cell_type": "markdown",
   "id": "36834c1f",
   "metadata": {},
   "source": [
    "#### Splitting of the Dataset into Train and Test"
   ]
  },
  {
   "cell_type": "code",
   "execution_count": 4,
   "id": "711cc125",
   "metadata": {},
   "outputs": [],
   "source": [
    "from sklearn.model_selection import train_test_split \n",
    "x_train, x_test, y_train, y_test = train_test_split(x, y, test_size = 0.2, random_state = 0)"
   ]
  },
  {
   "cell_type": "markdown",
   "id": "8f3361e2",
   "metadata": {},
   "source": [
    "#### Applying library to check the value of slope and intercept for validation"
   ]
  },
  {
   "cell_type": "code",
   "execution_count": 5,
   "id": "b2a45110",
   "metadata": {},
   "outputs": [
    {
     "data": {
      "text/plain": [
       "LinearRegression()"
      ]
     },
     "execution_count": 5,
     "metadata": {},
     "output_type": "execute_result"
    }
   ],
   "source": [
    "from sklearn.linear_model import LinearRegression\n",
    "regressor = LinearRegression()\n",
    "regressor.fit(x_train,y_train)"
   ]
  },
  {
   "cell_type": "code",
   "execution_count": 6,
   "id": "38aea26b",
   "metadata": {},
   "outputs": [
    {
     "name": "stdout",
     "output_type": "stream",
     "text": [
      "[27.66905703]\n",
      "-2.6537533288365944\n"
     ]
    }
   ],
   "source": [
    "print(regressor.coef_)\n",
    "print(regressor.intercept_)"
   ]
  },
  {
   "cell_type": "markdown",
   "id": "641b3442",
   "metadata": {},
   "source": [
    "#### Making own Gradient Descent class to find slope and intercept for predictions"
   ]
  },
  {
   "cell_type": "code",
   "execution_count": 7,
   "id": "76c6c7e5",
   "metadata": {},
   "outputs": [],
   "source": [
    "class MyGradientDescent:\n",
    "    # Constructor to initialize the values of slope, intercept, learning rate, and epochs\n",
    "    def __init__(self,learning_rate,epochs):\n",
    "        self.m = 100   # slope\n",
    "        self.b = -120  # intercept\n",
    "        self.lr = learning_rate  # learning rate\n",
    "        self.epochs = epochs    # number of iterations (epochs) to run the gradient descent algorithm\n",
    "    \n",
    "    # Method to fit the model to the given data X and y\n",
    "    def fit(self,x,y):\n",
    "        # Run the gradient descent algorithm for the specified number of epochs\n",
    "        for i in range(self.epochs):\n",
    "            \n",
    "            # Calculate the gradients of the loss function with respect to slope (m) and intercept (b)\n",
    "            loss_slope_b = -2 * np.sum(y - self.m*x.ravel() - self.b)\n",
    "            loss_slope_m = -2 * np.sum((y - self.m*x.ravel() - self.b)*x.ravel())\n",
    "            \n",
    "            # Update the values of slope and intercept using the calculated gradients and learning rate\n",
    "            self.b = self.b - (self.lr * loss_slope_b)\n",
    "            self.m = self.m - (self.lr * loss_slope_m)\n",
    "        \n",
    "        # Print the final values of slope and intercept after training\n",
    "        print(self.m,self.b)\n",
    "        \n",
    "    # Method to make predictions using the trained model\n",
    "    def predict(self,x):\n",
    "        # Calculate the predicted values of y using the trained slope and intercept\n",
    "        return self.m * x + self.b"
   ]
  },
  {
   "cell_type": "code",
   "execution_count": 8,
   "id": "68ed34f0",
   "metadata": {},
   "outputs": [
    {
     "name": "stdout",
     "output_type": "stream",
     "text": [
      "27.70495570663356 -2.6797543175799925\n"
     ]
    }
   ],
   "source": [
    "gd = MyGradientDescent(0.001,50)\n",
    "gd.fit(x_train,y_train)"
   ]
  },
  {
   "cell_type": "markdown",
   "id": "d4c6540a",
   "metadata": {},
   "source": [
    "#### Evaluating the results"
   ]
  },
  {
   "cell_type": "code",
   "execution_count": 9,
   "id": "e8c9d9d1",
   "metadata": {},
   "outputs": [
    {
     "data": {
      "text/plain": [
       "0.688466371013573"
      ]
     },
     "execution_count": 9,
     "metadata": {},
     "output_type": "execute_result"
    }
   ],
   "source": [
    "y_pred = gd.predict(x_test)\n",
    "from sklearn.metrics import r2_score\n",
    "r2_score(y_test,y_pred)"
   ]
  }
 ],
 "metadata": {
  "kernelspec": {
   "display_name": "Python 3 (ipykernel)",
   "language": "python",
   "name": "python3"
  },
  "language_info": {
   "codemirror_mode": {
    "name": "ipython",
    "version": 3
   },
   "file_extension": ".py",
   "mimetype": "text/x-python",
   "name": "python",
   "nbconvert_exporter": "python",
   "pygments_lexer": "ipython3",
   "version": "3.9.13"
  }
 },
 "nbformat": 4,
 "nbformat_minor": 5
}
