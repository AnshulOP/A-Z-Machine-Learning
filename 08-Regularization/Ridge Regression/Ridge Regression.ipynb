{
 "cells": [
  {
   "cell_type": "markdown",
   "id": "e7dc91a6",
   "metadata": {},
   "source": [
    "#### Importing the Libraries"
   ]
  },
  {
   "cell_type": "code",
   "execution_count": 2,
   "id": "48bf1009",
   "metadata": {},
   "outputs": [],
   "source": [
    "import numpy as np\n",
    "import pandas as pd\n",
    "import matplotlib.pyplot as plt"
   ]
  },
  {
   "cell_type": "markdown",
   "id": "5be20364",
   "metadata": {},
   "source": [
    "#### Importing the Dataset"
   ]
  },
  {
   "cell_type": "code",
   "execution_count": 4,
   "id": "72744815",
   "metadata": {},
   "outputs": [],
   "source": [
    "from sklearn.datasets import load_diabetes\n",
    "dataset = load_diabetes()"
   ]
  },
  {
   "cell_type": "code",
   "execution_count": 5,
   "id": "df7436e6",
   "metadata": {},
   "outputs": [],
   "source": [
    "x = dataset.data\n",
    "y = dataset.target"
   ]
  },
  {
   "cell_type": "markdown",
   "id": "da7f45e8",
   "metadata": {},
   "source": [
    "#### Splitting the mdoel into train and test set"
   ]
  },
  {
   "cell_type": "code",
   "execution_count": 8,
   "id": "67aad11c",
   "metadata": {},
   "outputs": [],
   "source": [
    "from sklearn.model_selection import train_test_split\n",
    "x_train, x_test, y_train, y_test = train_test_split(x, y, test_size=0.2, random_state=45)"
   ]
  },
  {
   "cell_type": "markdown",
   "id": "8db4ccc3",
   "metadata": {},
   "source": [
    "#### Making Linear Regression model"
   ]
  },
  {
   "cell_type": "code",
   "execution_count": 9,
   "id": "3e17363e",
   "metadata": {},
   "outputs": [],
   "source": [
    "from sklearn.linear_model import LinearRegression\n",
    "regressor = LinearRegression()"
   ]
  },
  {
   "cell_type": "code",
   "execution_count": 10,
   "id": "14f898ee",
   "metadata": {},
   "outputs": [
    {
     "data": {
      "text/plain": [
       "LinearRegression()"
      ]
     },
     "execution_count": 10,
     "metadata": {},
     "output_type": "execute_result"
    }
   ],
   "source": [
    "regressor.fit(x_train, y_train)"
   ]
  },
  {
   "cell_type": "code",
   "execution_count": 11,
   "id": "b2fb5e13",
   "metadata": {},
   "outputs": [
    {
     "name": "stdout",
     "output_type": "stream",
     "text": [
      "[  23.45388514 -247.43107084  492.10188174  329.36498638 -970.79784704\n",
      "  573.54460121  182.41386124  255.9162021   794.21654496   89.32074078]\n",
      "152.13619339070766\n"
     ]
    }
   ],
   "source": [
    "print(regressor.coef_)\n",
    "print(regressor.intercept_)"
   ]
  },
  {
   "cell_type": "code",
   "execution_count": 12,
   "id": "b7ba4919",
   "metadata": {},
   "outputs": [],
   "source": [
    "y_pred = regressor.predict(x_test)"
   ]
  },
  {
   "cell_type": "code",
   "execution_count": 13,
   "id": "6f45d939",
   "metadata": {},
   "outputs": [
    {
     "name": "stdout",
     "output_type": "stream",
     "text": [
      "R2 score 0.5188118914964637\n",
      "RMSE 48.72710829141399\n"
     ]
    }
   ],
   "source": [
    "from sklearn.metrics import r2_score, mean_squared_error\n",
    "print(\"R2 score\", r2_score(y_test, y_pred))\n",
    "print(\"RMSE\", np.sqrt(mean_squared_error(y_test, y_pred)))"
   ]
  },
  {
   "cell_type": "markdown",
   "id": "04129f7a",
   "metadata": {},
   "source": [
    "#### Making Ridge Regression model"
   ]
  },
  {
   "cell_type": "code",
   "execution_count": 16,
   "id": "de9a3474",
   "metadata": {},
   "outputs": [],
   "source": [
    "from sklearn.linear_model import Ridge\n",
    "regularizer = Ridge(alpha=100000)"
   ]
  },
  {
   "cell_type": "code",
   "execution_count": 17,
   "id": "d4122612",
   "metadata": {},
   "outputs": [
    {
     "data": {
      "text/plain": [
       "Ridge(alpha=100000)"
      ]
     },
     "execution_count": 17,
     "metadata": {},
     "output_type": "execute_result"
    }
   ],
   "source": [
    "regularizer.fit(x_train, y_train)"
   ]
  },
  {
   "cell_type": "code",
   "execution_count": 18,
   "id": "d895c1d5",
   "metadata": {},
   "outputs": [
    {
     "name": "stdout",
     "output_type": "stream",
     "text": [
      "[ 0.00260126  0.00057066  0.00776597  0.00609765  0.00233864  0.00184724\n",
      " -0.00513942  0.0052716   0.00734601  0.00528629]\n",
      "151.8328793076644\n"
     ]
    }
   ],
   "source": [
    "print(regularizer.coef_)\n",
    "print(regularizer.intercept_)"
   ]
  },
  {
   "cell_type": "code",
   "execution_count": 19,
   "id": "0a5dc874",
   "metadata": {},
   "outputs": [],
   "source": [
    "y_pred1 = regularizer.predict(x_test)"
   ]
  },
  {
   "cell_type": "code",
   "execution_count": 20,
   "id": "ba63694b",
   "metadata": {},
   "outputs": [
    {
     "name": "stdout",
     "output_type": "stream",
     "text": [
      "R2 score -0.0004249020401270176\n",
      "RMSE 70.25956273043168\n"
     ]
    }
   ],
   "source": [
    "print(\"R2 score\", r2_score(y_test, y_pred1))\n",
    "print(\"RMSE\", np.sqrt(mean_squared_error(y_test, y_pred1)))"
   ]
  }
 ],
 "metadata": {
  "kernelspec": {
   "display_name": "Python 3 (ipykernel)",
   "language": "python",
   "name": "python3"
  },
  "language_info": {
   "codemirror_mode": {
    "name": "ipython",
    "version": 3
   },
   "file_extension": ".py",
   "mimetype": "text/x-python",
   "name": "python",
   "nbconvert_exporter": "python",
   "pygments_lexer": "ipython3",
   "version": "3.9.13"
  }
 },
 "nbformat": 4,
 "nbformat_minor": 5
}
