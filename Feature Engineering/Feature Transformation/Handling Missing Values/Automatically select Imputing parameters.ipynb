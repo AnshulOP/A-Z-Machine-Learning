{
 "cells": [
  {
   "cell_type": "markdown",
   "id": "18fbb41e",
   "metadata": {},
   "source": [
    "#### Importing Libraries"
   ]
  },
  {
   "cell_type": "code",
   "execution_count": 1,
   "id": "a57929b1",
   "metadata": {},
   "outputs": [],
   "source": [
    "import numpy as np\n",
    "import pandas as pd\n",
    "import warnings\n",
    "warnings.filterwarnings(action = 'ignore')\n",
    "\n",
    "from sklearn.model_selection import train_test_split\n",
    "from sklearn.model_selection import GridSearchCV\n",
    "\n",
    "from sklearn.compose import ColumnTransformer\n",
    "from sklearn.pipeline import Pipeline, make_pipeline\n",
    "from sklearn.impute import SimpleImputer\n",
    "from sklearn.preprocessing import MinMaxScaler, OneHotEncoder\n",
    "from sklearn.linear_model import LogisticRegression"
   ]
  },
  {
   "cell_type": "markdown",
   "id": "d6164151",
   "metadata": {},
   "source": [
    "#### Importing the Dataset"
   ]
  },
  {
   "cell_type": "code",
   "execution_count": 2,
   "id": "8096c801",
   "metadata": {},
   "outputs": [
    {
     "data": {
      "text/html": [
       "<div>\n",
       "<style scoped>\n",
       "    .dataframe tbody tr th:only-of-type {\n",
       "        vertical-align: middle;\n",
       "    }\n",
       "\n",
       "    .dataframe tbody tr th {\n",
       "        vertical-align: top;\n",
       "    }\n",
       "\n",
       "    .dataframe thead th {\n",
       "        text-align: right;\n",
       "    }\n",
       "</style>\n",
       "<table border=\"1\" class=\"dataframe\">\n",
       "  <thead>\n",
       "    <tr style=\"text-align: right;\">\n",
       "      <th></th>\n",
       "      <th>PassengerId</th>\n",
       "      <th>Survived</th>\n",
       "      <th>Pclass</th>\n",
       "      <th>Name</th>\n",
       "      <th>Sex</th>\n",
       "      <th>Age</th>\n",
       "      <th>SibSp</th>\n",
       "      <th>Parch</th>\n",
       "      <th>Ticket</th>\n",
       "      <th>Fare</th>\n",
       "      <th>Cabin</th>\n",
       "      <th>Embarked</th>\n",
       "    </tr>\n",
       "  </thead>\n",
       "  <tbody>\n",
       "    <tr>\n",
       "      <th>0</th>\n",
       "      <td>1</td>\n",
       "      <td>0</td>\n",
       "      <td>3</td>\n",
       "      <td>Braund, Mr. Owen Harris</td>\n",
       "      <td>male</td>\n",
       "      <td>22.0</td>\n",
       "      <td>1</td>\n",
       "      <td>0</td>\n",
       "      <td>A/5 21171</td>\n",
       "      <td>7.2500</td>\n",
       "      <td>NaN</td>\n",
       "      <td>S</td>\n",
       "    </tr>\n",
       "    <tr>\n",
       "      <th>1</th>\n",
       "      <td>2</td>\n",
       "      <td>1</td>\n",
       "      <td>1</td>\n",
       "      <td>Cumings, Mrs. John Bradley (Florence Briggs Th...</td>\n",
       "      <td>female</td>\n",
       "      <td>38.0</td>\n",
       "      <td>1</td>\n",
       "      <td>0</td>\n",
       "      <td>PC 17599</td>\n",
       "      <td>71.2833</td>\n",
       "      <td>C85</td>\n",
       "      <td>C</td>\n",
       "    </tr>\n",
       "    <tr>\n",
       "      <th>2</th>\n",
       "      <td>3</td>\n",
       "      <td>1</td>\n",
       "      <td>3</td>\n",
       "      <td>Heikkinen, Miss. Laina</td>\n",
       "      <td>female</td>\n",
       "      <td>26.0</td>\n",
       "      <td>0</td>\n",
       "      <td>0</td>\n",
       "      <td>STON/O2. 3101282</td>\n",
       "      <td>7.9250</td>\n",
       "      <td>NaN</td>\n",
       "      <td>S</td>\n",
       "    </tr>\n",
       "    <tr>\n",
       "      <th>3</th>\n",
       "      <td>4</td>\n",
       "      <td>1</td>\n",
       "      <td>1</td>\n",
       "      <td>Futrelle, Mrs. Jacques Heath (Lily May Peel)</td>\n",
       "      <td>female</td>\n",
       "      <td>35.0</td>\n",
       "      <td>1</td>\n",
       "      <td>0</td>\n",
       "      <td>113803</td>\n",
       "      <td>53.1000</td>\n",
       "      <td>C123</td>\n",
       "      <td>S</td>\n",
       "    </tr>\n",
       "    <tr>\n",
       "      <th>4</th>\n",
       "      <td>5</td>\n",
       "      <td>0</td>\n",
       "      <td>3</td>\n",
       "      <td>Allen, Mr. William Henry</td>\n",
       "      <td>male</td>\n",
       "      <td>35.0</td>\n",
       "      <td>0</td>\n",
       "      <td>0</td>\n",
       "      <td>373450</td>\n",
       "      <td>8.0500</td>\n",
       "      <td>NaN</td>\n",
       "      <td>S</td>\n",
       "    </tr>\n",
       "  </tbody>\n",
       "</table>\n",
       "</div>"
      ],
      "text/plain": [
       "   PassengerId  Survived  Pclass  \\\n",
       "0            1         0       3   \n",
       "1            2         1       1   \n",
       "2            3         1       3   \n",
       "3            4         1       1   \n",
       "4            5         0       3   \n",
       "\n",
       "                                                Name     Sex   Age  SibSp  \\\n",
       "0                            Braund, Mr. Owen Harris    male  22.0      1   \n",
       "1  Cumings, Mrs. John Bradley (Florence Briggs Th...  female  38.0      1   \n",
       "2                             Heikkinen, Miss. Laina  female  26.0      0   \n",
       "3       Futrelle, Mrs. Jacques Heath (Lily May Peel)  female  35.0      1   \n",
       "4                           Allen, Mr. William Henry    male  35.0      0   \n",
       "\n",
       "   Parch            Ticket     Fare Cabin Embarked  \n",
       "0      0         A/5 21171   7.2500   NaN        S  \n",
       "1      0          PC 17599  71.2833   C85        C  \n",
       "2      0  STON/O2. 3101282   7.9250   NaN        S  \n",
       "3      0            113803  53.1000  C123        S  \n",
       "4      0            373450   8.0500   NaN        S  "
      ]
     },
     "execution_count": 2,
     "metadata": {},
     "output_type": "execute_result"
    }
   ],
   "source": [
    "dataset = pd.read_csv('Titanic.csv')\n",
    "dataset.head()"
   ]
  },
  {
   "cell_type": "code",
   "execution_count": 3,
   "id": "a4fa7758",
   "metadata": {},
   "outputs": [
    {
     "data": {
      "text/plain": [
       "PassengerId      0\n",
       "Survived         0\n",
       "Pclass           0\n",
       "Name             0\n",
       "Sex              0\n",
       "Age            177\n",
       "SibSp            0\n",
       "Parch            0\n",
       "Ticket           0\n",
       "Fare             0\n",
       "Cabin          687\n",
       "Embarked         2\n",
       "dtype: int64"
      ]
     },
     "execution_count": 3,
     "metadata": {},
     "output_type": "execute_result"
    }
   ],
   "source": [
    "dataset.isnull().sum()"
   ]
  },
  {
   "cell_type": "code",
   "execution_count": 4,
   "id": "3dcc1cac",
   "metadata": {},
   "outputs": [],
   "source": [
    "dataset.drop(columns=['PassengerId','Name','Ticket','Cabin'],inplace=True)"
   ]
  },
  {
   "cell_type": "code",
   "execution_count": 5,
   "id": "78262f8c",
   "metadata": {},
   "outputs": [],
   "source": [
    "x = dataset.drop(columns=['Survived'])\n",
    "y = dataset['Survived']"
   ]
  },
  {
   "cell_type": "markdown",
   "id": "5322cc48",
   "metadata": {},
   "source": [
    "#### Splitting the data into train and test data"
   ]
  },
  {
   "cell_type": "code",
   "execution_count": 6,
   "id": "8d639675",
   "metadata": {},
   "outputs": [],
   "source": [
    "x_train, x_test, y_train, y_test = train_test_split(x, y, test_size=0.2, random_state=7)"
   ]
  },
  {
   "cell_type": "code",
   "execution_count": 7,
   "id": "4e284971",
   "metadata": {},
   "outputs": [
    {
     "data": {
      "text/html": [
       "<div>\n",
       "<style scoped>\n",
       "    .dataframe tbody tr th:only-of-type {\n",
       "        vertical-align: middle;\n",
       "    }\n",
       "\n",
       "    .dataframe tbody tr th {\n",
       "        vertical-align: top;\n",
       "    }\n",
       "\n",
       "    .dataframe thead th {\n",
       "        text-align: right;\n",
       "    }\n",
       "</style>\n",
       "<table border=\"1\" class=\"dataframe\">\n",
       "  <thead>\n",
       "    <tr style=\"text-align: right;\">\n",
       "      <th></th>\n",
       "      <th>Pclass</th>\n",
       "      <th>Sex</th>\n",
       "      <th>Age</th>\n",
       "      <th>SibSp</th>\n",
       "      <th>Parch</th>\n",
       "      <th>Fare</th>\n",
       "      <th>Embarked</th>\n",
       "    </tr>\n",
       "  </thead>\n",
       "  <tbody>\n",
       "    <tr>\n",
       "      <th>205</th>\n",
       "      <td>3</td>\n",
       "      <td>female</td>\n",
       "      <td>2.0</td>\n",
       "      <td>0</td>\n",
       "      <td>1</td>\n",
       "      <td>10.4625</td>\n",
       "      <td>S</td>\n",
       "    </tr>\n",
       "    <tr>\n",
       "      <th>718</th>\n",
       "      <td>3</td>\n",
       "      <td>male</td>\n",
       "      <td>NaN</td>\n",
       "      <td>0</td>\n",
       "      <td>0</td>\n",
       "      <td>15.5000</td>\n",
       "      <td>Q</td>\n",
       "    </tr>\n",
       "    <tr>\n",
       "      <th>835</th>\n",
       "      <td>1</td>\n",
       "      <td>female</td>\n",
       "      <td>39.0</td>\n",
       "      <td>1</td>\n",
       "      <td>1</td>\n",
       "      <td>83.1583</td>\n",
       "      <td>C</td>\n",
       "    </tr>\n",
       "    <tr>\n",
       "      <th>851</th>\n",
       "      <td>3</td>\n",
       "      <td>male</td>\n",
       "      <td>74.0</td>\n",
       "      <td>0</td>\n",
       "      <td>0</td>\n",
       "      <td>7.7750</td>\n",
       "      <td>S</td>\n",
       "    </tr>\n",
       "    <tr>\n",
       "      <th>773</th>\n",
       "      <td>3</td>\n",
       "      <td>male</td>\n",
       "      <td>NaN</td>\n",
       "      <td>0</td>\n",
       "      <td>0</td>\n",
       "      <td>7.2250</td>\n",
       "      <td>C</td>\n",
       "    </tr>\n",
       "  </tbody>\n",
       "</table>\n",
       "</div>"
      ],
      "text/plain": [
       "     Pclass     Sex   Age  SibSp  Parch     Fare Embarked\n",
       "205       3  female   2.0      0      1  10.4625        S\n",
       "718       3    male   NaN      0      0  15.5000        Q\n",
       "835       1  female  39.0      1      1  83.1583        C\n",
       "851       3    male  74.0      0      0   7.7750        S\n",
       "773       3    male   NaN      0      0   7.2250        C"
      ]
     },
     "execution_count": 7,
     "metadata": {},
     "output_type": "execute_result"
    }
   ],
   "source": [
    "x_train.head()"
   ]
  },
  {
   "cell_type": "markdown",
   "id": "4290ee30",
   "metadata": {},
   "source": [
    "#### Using Column Transformer for Libraries"
   ]
  },
  {
   "cell_type": "code",
   "execution_count": 8,
   "id": "117123fc",
   "metadata": {},
   "outputs": [],
   "source": [
    "numeric_features = [\"Age\", \"Fare\"]"
   ]
  },
  {
   "cell_type": "code",
   "execution_count": 9,
   "id": "ddf0da53",
   "metadata": {},
   "outputs": [],
   "source": [
    "transformer1 = ColumnTransformer([\n",
    "    ('imputer_numerical', SimpleImputer(strategy = 'median'), [2]),\n",
    "    ('imputer_categorical', SimpleImputer(strategy = 'most_frequent'), [6])\n",
    "], remainder = 'passthrough')"
   ]
  },
  {
   "cell_type": "code",
   "execution_count": 10,
   "id": "9d940c1a",
   "metadata": {},
   "outputs": [],
   "source": [
    "transformer2 = ColumnTransformer([\n",
    "    ('scaler', MinMaxScaler(), slice(0,10))\n",
    "])"
   ]
  },
  {
   "cell_type": "code",
   "execution_count": 11,
   "id": "4625b1b9",
   "metadata": {},
   "outputs": [],
   "source": [
    "transformer3 = ColumnTransformer([\n",
    "    ('encoding', OneHotEncoder(sparse=False,handle_unknown='ignore'), [1, 6])\n",
    "], remainder = 'passthrough')"
   ]
  },
  {
   "cell_type": "code",
   "execution_count": 12,
   "id": "2f237452",
   "metadata": {},
   "outputs": [],
   "source": [
    "transformer4 = LogisticRegression()"
   ]
  },
  {
   "cell_type": "markdown",
   "id": "76e6b74f",
   "metadata": {},
   "source": [
    "#### Creating Pipeline to pass all Transformers"
   ]
  },
  {
   "cell_type": "code",
   "execution_count": 13,
   "id": "b8a818e9",
   "metadata": {},
   "outputs": [],
   "source": [
    "pipe = Pipeline([\n",
    "    ('trf1',transformer1),\n",
    "    ('trf2',transformer3),\n",
    "    ('trf3',transformer2),\n",
    "    ('trf4',transformer4)\n",
    "])"
   ]
  },
  {
   "cell_type": "code",
   "execution_count": 14,
   "id": "ceaedc24",
   "metadata": {},
   "outputs": [
    {
     "data": {
      "text/plain": [
       "Pipeline(steps=[('trf1',\n",
       "                 ColumnTransformer(remainder='passthrough',\n",
       "                                   transformers=[('imputer_numerical',\n",
       "                                                  SimpleImputer(strategy='median'),\n",
       "                                                  [2]),\n",
       "                                                 ('imputer_categorical',\n",
       "                                                  SimpleImputer(strategy='most_frequent'),\n",
       "                                                  [6])])),\n",
       "                ('trf2',\n",
       "                 ColumnTransformer(remainder='passthrough',\n",
       "                                   transformers=[('encoding',\n",
       "                                                  OneHotEncoder(handle_unknown='ignore',\n",
       "                                                                sparse=False),\n",
       "                                                  [1, 6])])),\n",
       "                ('trf3',\n",
       "                 ColumnTransformer(transformers=[('scaler', MinMaxScaler(),\n",
       "                                                  slice(0, 10, None))])),\n",
       "                ('trf4', LogisticRegression())])"
      ]
     },
     "execution_count": 14,
     "metadata": {},
     "output_type": "execute_result"
    }
   ],
   "source": [
    "pipe.fit(x_train,y_train)"
   ]
  },
  {
   "cell_type": "markdown",
   "id": "ed79c5a9",
   "metadata": {},
   "source": [
    "#### Visualising Pipeline flow"
   ]
  },
  {
   "cell_type": "code",
   "execution_count": 15,
   "id": "9348601b",
   "metadata": {},
   "outputs": [
    {
     "data": {
      "text/html": [
       "<style>#sk-c7350fcf-ce82-49af-8571-8b42272faaa2 {color: black;background-color: white;}#sk-c7350fcf-ce82-49af-8571-8b42272faaa2 pre{padding: 0;}#sk-c7350fcf-ce82-49af-8571-8b42272faaa2 div.sk-toggleable {background-color: white;}#sk-c7350fcf-ce82-49af-8571-8b42272faaa2 label.sk-toggleable__label {cursor: pointer;display: block;width: 100%;margin-bottom: 0;padding: 0.3em;box-sizing: border-box;text-align: center;}#sk-c7350fcf-ce82-49af-8571-8b42272faaa2 label.sk-toggleable__label-arrow:before {content: \"▸\";float: left;margin-right: 0.25em;color: #696969;}#sk-c7350fcf-ce82-49af-8571-8b42272faaa2 label.sk-toggleable__label-arrow:hover:before {color: black;}#sk-c7350fcf-ce82-49af-8571-8b42272faaa2 div.sk-estimator:hover label.sk-toggleable__label-arrow:before {color: black;}#sk-c7350fcf-ce82-49af-8571-8b42272faaa2 div.sk-toggleable__content {max-height: 0;max-width: 0;overflow: hidden;text-align: left;background-color: #f0f8ff;}#sk-c7350fcf-ce82-49af-8571-8b42272faaa2 div.sk-toggleable__content pre {margin: 0.2em;color: black;border-radius: 0.25em;background-color: #f0f8ff;}#sk-c7350fcf-ce82-49af-8571-8b42272faaa2 input.sk-toggleable__control:checked~div.sk-toggleable__content {max-height: 200px;max-width: 100%;overflow: auto;}#sk-c7350fcf-ce82-49af-8571-8b42272faaa2 input.sk-toggleable__control:checked~label.sk-toggleable__label-arrow:before {content: \"▾\";}#sk-c7350fcf-ce82-49af-8571-8b42272faaa2 div.sk-estimator input.sk-toggleable__control:checked~label.sk-toggleable__label {background-color: #d4ebff;}#sk-c7350fcf-ce82-49af-8571-8b42272faaa2 div.sk-label input.sk-toggleable__control:checked~label.sk-toggleable__label {background-color: #d4ebff;}#sk-c7350fcf-ce82-49af-8571-8b42272faaa2 input.sk-hidden--visually {border: 0;clip: rect(1px 1px 1px 1px);clip: rect(1px, 1px, 1px, 1px);height: 1px;margin: -1px;overflow: hidden;padding: 0;position: absolute;width: 1px;}#sk-c7350fcf-ce82-49af-8571-8b42272faaa2 div.sk-estimator {font-family: monospace;background-color: #f0f8ff;border: 1px dotted black;border-radius: 0.25em;box-sizing: border-box;margin-bottom: 0.5em;}#sk-c7350fcf-ce82-49af-8571-8b42272faaa2 div.sk-estimator:hover {background-color: #d4ebff;}#sk-c7350fcf-ce82-49af-8571-8b42272faaa2 div.sk-parallel-item::after {content: \"\";width: 100%;border-bottom: 1px solid gray;flex-grow: 1;}#sk-c7350fcf-ce82-49af-8571-8b42272faaa2 div.sk-label:hover label.sk-toggleable__label {background-color: #d4ebff;}#sk-c7350fcf-ce82-49af-8571-8b42272faaa2 div.sk-serial::before {content: \"\";position: absolute;border-left: 1px solid gray;box-sizing: border-box;top: 2em;bottom: 0;left: 50%;}#sk-c7350fcf-ce82-49af-8571-8b42272faaa2 div.sk-serial {display: flex;flex-direction: column;align-items: center;background-color: white;padding-right: 0.2em;padding-left: 0.2em;}#sk-c7350fcf-ce82-49af-8571-8b42272faaa2 div.sk-item {z-index: 1;}#sk-c7350fcf-ce82-49af-8571-8b42272faaa2 div.sk-parallel {display: flex;align-items: stretch;justify-content: center;background-color: white;}#sk-c7350fcf-ce82-49af-8571-8b42272faaa2 div.sk-parallel::before {content: \"\";position: absolute;border-left: 1px solid gray;box-sizing: border-box;top: 2em;bottom: 0;left: 50%;}#sk-c7350fcf-ce82-49af-8571-8b42272faaa2 div.sk-parallel-item {display: flex;flex-direction: column;position: relative;background-color: white;}#sk-c7350fcf-ce82-49af-8571-8b42272faaa2 div.sk-parallel-item:first-child::after {align-self: flex-end;width: 50%;}#sk-c7350fcf-ce82-49af-8571-8b42272faaa2 div.sk-parallel-item:last-child::after {align-self: flex-start;width: 50%;}#sk-c7350fcf-ce82-49af-8571-8b42272faaa2 div.sk-parallel-item:only-child::after {width: 0;}#sk-c7350fcf-ce82-49af-8571-8b42272faaa2 div.sk-dashed-wrapped {border: 1px dashed gray;margin: 0 0.4em 0.5em 0.4em;box-sizing: border-box;padding-bottom: 0.4em;background-color: white;position: relative;}#sk-c7350fcf-ce82-49af-8571-8b42272faaa2 div.sk-label label {font-family: monospace;font-weight: bold;background-color: white;display: inline-block;line-height: 1.2em;}#sk-c7350fcf-ce82-49af-8571-8b42272faaa2 div.sk-label-container {position: relative;z-index: 2;text-align: center;}#sk-c7350fcf-ce82-49af-8571-8b42272faaa2 div.sk-container {/* jupyter's `normalize.less` sets `[hidden] { display: none; }` but bootstrap.min.css set `[hidden] { display: none !important; }` so we also need the `!important` here to be able to override the default hidden behavior on the sphinx rendered scikit-learn.org. See: https://github.com/scikit-learn/scikit-learn/issues/21755 */display: inline-block !important;position: relative;}#sk-c7350fcf-ce82-49af-8571-8b42272faaa2 div.sk-text-repr-fallback {display: none;}</style><div id=\"sk-c7350fcf-ce82-49af-8571-8b42272faaa2\" class=\"sk-top-container\"><div class=\"sk-text-repr-fallback\"><pre>Pipeline(steps=[(&#x27;trf1&#x27;,\n",
       "                 ColumnTransformer(remainder=&#x27;passthrough&#x27;,\n",
       "                                   transformers=[(&#x27;imputer_numerical&#x27;,\n",
       "                                                  SimpleImputer(strategy=&#x27;median&#x27;),\n",
       "                                                  [2]),\n",
       "                                                 (&#x27;imputer_categorical&#x27;,\n",
       "                                                  SimpleImputer(strategy=&#x27;most_frequent&#x27;),\n",
       "                                                  [6])])),\n",
       "                (&#x27;trf2&#x27;,\n",
       "                 ColumnTransformer(remainder=&#x27;passthrough&#x27;,\n",
       "                                   transformers=[(&#x27;encoding&#x27;,\n",
       "                                                  OneHotEncoder(handle_unknown=&#x27;ignore&#x27;,\n",
       "                                                                sparse=False),\n",
       "                                                  [1, 6])])),\n",
       "                (&#x27;trf3&#x27;,\n",
       "                 ColumnTransformer(transformers=[(&#x27;scaler&#x27;, MinMaxScaler(),\n",
       "                                                  slice(0, 10, None))])),\n",
       "                (&#x27;trf4&#x27;, LogisticRegression())])</pre><b>Please rerun this cell to show the HTML repr or trust the notebook.</b></div><div class=\"sk-container\" hidden><div class=\"sk-item sk-dashed-wrapped\"><div class=\"sk-label-container\"><div class=\"sk-label sk-toggleable\"><input class=\"sk-toggleable__control sk-hidden--visually\" id=\"2d27fbf5-0237-4abb-aa20-39115893f2ac\" type=\"checkbox\" ><label for=\"2d27fbf5-0237-4abb-aa20-39115893f2ac\" class=\"sk-toggleable__label sk-toggleable__label-arrow\">Pipeline</label><div class=\"sk-toggleable__content\"><pre>Pipeline(steps=[(&#x27;trf1&#x27;,\n",
       "                 ColumnTransformer(remainder=&#x27;passthrough&#x27;,\n",
       "                                   transformers=[(&#x27;imputer_numerical&#x27;,\n",
       "                                                  SimpleImputer(strategy=&#x27;median&#x27;),\n",
       "                                                  [2]),\n",
       "                                                 (&#x27;imputer_categorical&#x27;,\n",
       "                                                  SimpleImputer(strategy=&#x27;most_frequent&#x27;),\n",
       "                                                  [6])])),\n",
       "                (&#x27;trf2&#x27;,\n",
       "                 ColumnTransformer(remainder=&#x27;passthrough&#x27;,\n",
       "                                   transformers=[(&#x27;encoding&#x27;,\n",
       "                                                  OneHotEncoder(handle_unknown=&#x27;ignore&#x27;,\n",
       "                                                                sparse=False),\n",
       "                                                  [1, 6])])),\n",
       "                (&#x27;trf3&#x27;,\n",
       "                 ColumnTransformer(transformers=[(&#x27;scaler&#x27;, MinMaxScaler(),\n",
       "                                                  slice(0, 10, None))])),\n",
       "                (&#x27;trf4&#x27;, LogisticRegression())])</pre></div></div></div><div class=\"sk-serial\"><div class=\"sk-item sk-dashed-wrapped\"><div class=\"sk-label-container\"><div class=\"sk-label sk-toggleable\"><input class=\"sk-toggleable__control sk-hidden--visually\" id=\"de43632a-bee5-46bd-bf26-c81bb990aba8\" type=\"checkbox\" ><label for=\"de43632a-bee5-46bd-bf26-c81bb990aba8\" class=\"sk-toggleable__label sk-toggleable__label-arrow\">trf1: ColumnTransformer</label><div class=\"sk-toggleable__content\"><pre>ColumnTransformer(remainder=&#x27;passthrough&#x27;,\n",
       "                  transformers=[(&#x27;imputer_numerical&#x27;,\n",
       "                                 SimpleImputer(strategy=&#x27;median&#x27;), [2]),\n",
       "                                (&#x27;imputer_categorical&#x27;,\n",
       "                                 SimpleImputer(strategy=&#x27;most_frequent&#x27;),\n",
       "                                 [6])])</pre></div></div></div><div class=\"sk-parallel\"><div class=\"sk-parallel-item\"><div class=\"sk-item\"><div class=\"sk-label-container\"><div class=\"sk-label sk-toggleable\"><input class=\"sk-toggleable__control sk-hidden--visually\" id=\"1bc58170-3241-4fd2-98f7-b4cdb5c51aa5\" type=\"checkbox\" ><label for=\"1bc58170-3241-4fd2-98f7-b4cdb5c51aa5\" class=\"sk-toggleable__label sk-toggleable__label-arrow\">imputer_numerical</label><div class=\"sk-toggleable__content\"><pre>[2]</pre></div></div></div><div class=\"sk-serial\"><div class=\"sk-item\"><div class=\"sk-estimator sk-toggleable\"><input class=\"sk-toggleable__control sk-hidden--visually\" id=\"a3af4699-a58b-4520-8dff-0337f5430348\" type=\"checkbox\" ><label for=\"a3af4699-a58b-4520-8dff-0337f5430348\" class=\"sk-toggleable__label sk-toggleable__label-arrow\">SimpleImputer</label><div class=\"sk-toggleable__content\"><pre>SimpleImputer(strategy=&#x27;median&#x27;)</pre></div></div></div></div></div></div><div class=\"sk-parallel-item\"><div class=\"sk-item\"><div class=\"sk-label-container\"><div class=\"sk-label sk-toggleable\"><input class=\"sk-toggleable__control sk-hidden--visually\" id=\"3c777b18-6fa5-4f96-a9d7-f683588dd284\" type=\"checkbox\" ><label for=\"3c777b18-6fa5-4f96-a9d7-f683588dd284\" class=\"sk-toggleable__label sk-toggleable__label-arrow\">imputer_categorical</label><div class=\"sk-toggleable__content\"><pre>[6]</pre></div></div></div><div class=\"sk-serial\"><div class=\"sk-item\"><div class=\"sk-estimator sk-toggleable\"><input class=\"sk-toggleable__control sk-hidden--visually\" id=\"3c362729-7d11-4fcb-9870-91b322e1f57f\" type=\"checkbox\" ><label for=\"3c362729-7d11-4fcb-9870-91b322e1f57f\" class=\"sk-toggleable__label sk-toggleable__label-arrow\">SimpleImputer</label><div class=\"sk-toggleable__content\"><pre>SimpleImputer(strategy=&#x27;most_frequent&#x27;)</pre></div></div></div></div></div></div><div class=\"sk-parallel-item\"><div class=\"sk-item\"><div class=\"sk-label-container\"><div class=\"sk-label sk-toggleable\"><input class=\"sk-toggleable__control sk-hidden--visually\" id=\"d68532e4-7a06-438e-a6b8-d9b8fe040a66\" type=\"checkbox\" ><label for=\"d68532e4-7a06-438e-a6b8-d9b8fe040a66\" class=\"sk-toggleable__label sk-toggleable__label-arrow\">remainder</label><div class=\"sk-toggleable__content\"><pre>[&#x27;Pclass&#x27;, &#x27;Sex&#x27;, &#x27;SibSp&#x27;, &#x27;Parch&#x27;, &#x27;Fare&#x27;]</pre></div></div></div><div class=\"sk-serial\"><div class=\"sk-item\"><div class=\"sk-estimator sk-toggleable\"><input class=\"sk-toggleable__control sk-hidden--visually\" id=\"5f6c56e2-9ce1-45c8-af15-45fa12912cb4\" type=\"checkbox\" ><label for=\"5f6c56e2-9ce1-45c8-af15-45fa12912cb4\" class=\"sk-toggleable__label sk-toggleable__label-arrow\">passthrough</label><div class=\"sk-toggleable__content\"><pre>passthrough</pre></div></div></div></div></div></div></div></div><div class=\"sk-item sk-dashed-wrapped\"><div class=\"sk-label-container\"><div class=\"sk-label sk-toggleable\"><input class=\"sk-toggleable__control sk-hidden--visually\" id=\"227874d7-2536-4204-b6ed-3c9a0d4ca227\" type=\"checkbox\" ><label for=\"227874d7-2536-4204-b6ed-3c9a0d4ca227\" class=\"sk-toggleable__label sk-toggleable__label-arrow\">trf2: ColumnTransformer</label><div class=\"sk-toggleable__content\"><pre>ColumnTransformer(remainder=&#x27;passthrough&#x27;,\n",
       "                  transformers=[(&#x27;encoding&#x27;,\n",
       "                                 OneHotEncoder(handle_unknown=&#x27;ignore&#x27;,\n",
       "                                               sparse=False),\n",
       "                                 [1, 6])])</pre></div></div></div><div class=\"sk-parallel\"><div class=\"sk-parallel-item\"><div class=\"sk-item\"><div class=\"sk-label-container\"><div class=\"sk-label sk-toggleable\"><input class=\"sk-toggleable__control sk-hidden--visually\" id=\"76e6d7ac-35e8-471f-86af-eddb63690f0a\" type=\"checkbox\" ><label for=\"76e6d7ac-35e8-471f-86af-eddb63690f0a\" class=\"sk-toggleable__label sk-toggleable__label-arrow\">encoding</label><div class=\"sk-toggleable__content\"><pre>[1, 6]</pre></div></div></div><div class=\"sk-serial\"><div class=\"sk-item\"><div class=\"sk-estimator sk-toggleable\"><input class=\"sk-toggleable__control sk-hidden--visually\" id=\"bbe82690-9666-4e48-b4b5-82da166b199b\" type=\"checkbox\" ><label for=\"bbe82690-9666-4e48-b4b5-82da166b199b\" class=\"sk-toggleable__label sk-toggleable__label-arrow\">OneHotEncoder</label><div class=\"sk-toggleable__content\"><pre>OneHotEncoder(handle_unknown=&#x27;ignore&#x27;, sparse=False)</pre></div></div></div></div></div></div><div class=\"sk-parallel-item\"><div class=\"sk-item\"><div class=\"sk-label-container\"><div class=\"sk-label sk-toggleable\"><input class=\"sk-toggleable__control sk-hidden--visually\" id=\"e0b3d4e9-40a5-48c6-8043-5780e6bf7546\" type=\"checkbox\" ><label for=\"e0b3d4e9-40a5-48c6-8043-5780e6bf7546\" class=\"sk-toggleable__label sk-toggleable__label-arrow\">remainder</label><div class=\"sk-toggleable__content\"><pre>[0, 2, 3, 4, 5]</pre></div></div></div><div class=\"sk-serial\"><div class=\"sk-item\"><div class=\"sk-estimator sk-toggleable\"><input class=\"sk-toggleable__control sk-hidden--visually\" id=\"79a31f52-d129-4c41-872d-3c54f15fb4ab\" type=\"checkbox\" ><label for=\"79a31f52-d129-4c41-872d-3c54f15fb4ab\" class=\"sk-toggleable__label sk-toggleable__label-arrow\">passthrough</label><div class=\"sk-toggleable__content\"><pre>passthrough</pre></div></div></div></div></div></div></div></div><div class=\"sk-item sk-dashed-wrapped\"><div class=\"sk-label-container\"><div class=\"sk-label sk-toggleable\"><input class=\"sk-toggleable__control sk-hidden--visually\" id=\"5096b000-a987-41d6-b220-47a6fd3f2c7f\" type=\"checkbox\" ><label for=\"5096b000-a987-41d6-b220-47a6fd3f2c7f\" class=\"sk-toggleable__label sk-toggleable__label-arrow\">trf3: ColumnTransformer</label><div class=\"sk-toggleable__content\"><pre>ColumnTransformer(transformers=[(&#x27;scaler&#x27;, MinMaxScaler(), slice(0, 10, None))])</pre></div></div></div><div class=\"sk-parallel\"><div class=\"sk-parallel-item\"><div class=\"sk-item\"><div class=\"sk-label-container\"><div class=\"sk-label sk-toggleable\"><input class=\"sk-toggleable__control sk-hidden--visually\" id=\"37a0d842-38d8-4bcb-96eb-e3b1d5219724\" type=\"checkbox\" ><label for=\"37a0d842-38d8-4bcb-96eb-e3b1d5219724\" class=\"sk-toggleable__label sk-toggleable__label-arrow\">scaler</label><div class=\"sk-toggleable__content\"><pre>slice(0, 10, None)</pre></div></div></div><div class=\"sk-serial\"><div class=\"sk-item\"><div class=\"sk-estimator sk-toggleable\"><input class=\"sk-toggleable__control sk-hidden--visually\" id=\"5af37043-750a-41d2-a08f-9b413dee26e7\" type=\"checkbox\" ><label for=\"5af37043-750a-41d2-a08f-9b413dee26e7\" class=\"sk-toggleable__label sk-toggleable__label-arrow\">MinMaxScaler</label><div class=\"sk-toggleable__content\"><pre>MinMaxScaler()</pre></div></div></div></div></div></div></div></div><div class=\"sk-item\"><div class=\"sk-estimator sk-toggleable\"><input class=\"sk-toggleable__control sk-hidden--visually\" id=\"801d14d9-a2b2-4f2b-98b7-8ccf4797dcf5\" type=\"checkbox\" ><label for=\"801d14d9-a2b2-4f2b-98b7-8ccf4797dcf5\" class=\"sk-toggleable__label sk-toggleable__label-arrow\">LogisticRegression</label><div class=\"sk-toggleable__content\"><pre>LogisticRegression()</pre></div></div></div></div></div></div></div>"
      ],
      "text/plain": [
       "Pipeline(steps=[('trf1',\n",
       "                 ColumnTransformer(remainder='passthrough',\n",
       "                                   transformers=[('imputer_numerical',\n",
       "                                                  SimpleImputer(strategy='median'),\n",
       "                                                  [2]),\n",
       "                                                 ('imputer_categorical',\n",
       "                                                  SimpleImputer(strategy='most_frequent'),\n",
       "                                                  [6])])),\n",
       "                ('trf2',\n",
       "                 ColumnTransformer(remainder='passthrough',\n",
       "                                   transformers=[('encoding',\n",
       "                                                  OneHotEncoder(handle_unknown='ignore',\n",
       "                                                                sparse=False),\n",
       "                                                  [1, 6])])),\n",
       "                ('trf3',\n",
       "                 ColumnTransformer(transformers=[('scaler', MinMaxScaler(),\n",
       "                                                  slice(0, 10, None))])),\n",
       "                ('trf4', LogisticRegression())])"
      ]
     },
     "execution_count": 15,
     "metadata": {},
     "output_type": "execute_result"
    }
   ],
   "source": [
    "from sklearn import set_config\n",
    "set_config(display='diagram')\n",
    "pipe"
   ]
  },
  {
   "cell_type": "code",
   "execution_count": 16,
   "id": "0acbd751",
   "metadata": {},
   "outputs": [],
   "source": [
    "y_pred = pipe.predict(x_test)"
   ]
  },
  {
   "cell_type": "markdown",
   "id": "4440e390",
   "metadata": {},
   "source": [
    "#### Calculating accuracy score before using Grid Search CV"
   ]
  },
  {
   "cell_type": "code",
   "execution_count": 17,
   "id": "7c7ab25d",
   "metadata": {},
   "outputs": [
    {
     "data": {
      "text/plain": [
       "0.6145251396648045"
      ]
     },
     "execution_count": 17,
     "metadata": {},
     "output_type": "execute_result"
    }
   ],
   "source": [
    "from sklearn.metrics import accuracy_score\n",
    "accuracy_score(y_test,y_pred)"
   ]
  },
  {
   "cell_type": "markdown",
   "id": "6db9b9de",
   "metadata": {},
   "source": [
    "#### Using Grid Search CV to test and use best parameters"
   ]
  },
  {
   "cell_type": "code",
   "execution_count": 18,
   "id": "86005b20",
   "metadata": {
    "scrolled": false
   },
   "outputs": [
    {
     "data": {
      "text/html": [
       "<style>#sk-07b2007f-c9be-4697-a2fc-8d82329b56eb {color: black;background-color: white;}#sk-07b2007f-c9be-4697-a2fc-8d82329b56eb pre{padding: 0;}#sk-07b2007f-c9be-4697-a2fc-8d82329b56eb div.sk-toggleable {background-color: white;}#sk-07b2007f-c9be-4697-a2fc-8d82329b56eb label.sk-toggleable__label {cursor: pointer;display: block;width: 100%;margin-bottom: 0;padding: 0.3em;box-sizing: border-box;text-align: center;}#sk-07b2007f-c9be-4697-a2fc-8d82329b56eb label.sk-toggleable__label-arrow:before {content: \"▸\";float: left;margin-right: 0.25em;color: #696969;}#sk-07b2007f-c9be-4697-a2fc-8d82329b56eb label.sk-toggleable__label-arrow:hover:before {color: black;}#sk-07b2007f-c9be-4697-a2fc-8d82329b56eb div.sk-estimator:hover label.sk-toggleable__label-arrow:before {color: black;}#sk-07b2007f-c9be-4697-a2fc-8d82329b56eb div.sk-toggleable__content {max-height: 0;max-width: 0;overflow: hidden;text-align: left;background-color: #f0f8ff;}#sk-07b2007f-c9be-4697-a2fc-8d82329b56eb div.sk-toggleable__content pre {margin: 0.2em;color: black;border-radius: 0.25em;background-color: #f0f8ff;}#sk-07b2007f-c9be-4697-a2fc-8d82329b56eb input.sk-toggleable__control:checked~div.sk-toggleable__content {max-height: 200px;max-width: 100%;overflow: auto;}#sk-07b2007f-c9be-4697-a2fc-8d82329b56eb input.sk-toggleable__control:checked~label.sk-toggleable__label-arrow:before {content: \"▾\";}#sk-07b2007f-c9be-4697-a2fc-8d82329b56eb div.sk-estimator input.sk-toggleable__control:checked~label.sk-toggleable__label {background-color: #d4ebff;}#sk-07b2007f-c9be-4697-a2fc-8d82329b56eb div.sk-label input.sk-toggleable__control:checked~label.sk-toggleable__label {background-color: #d4ebff;}#sk-07b2007f-c9be-4697-a2fc-8d82329b56eb input.sk-hidden--visually {border: 0;clip: rect(1px 1px 1px 1px);clip: rect(1px, 1px, 1px, 1px);height: 1px;margin: -1px;overflow: hidden;padding: 0;position: absolute;width: 1px;}#sk-07b2007f-c9be-4697-a2fc-8d82329b56eb div.sk-estimator {font-family: monospace;background-color: #f0f8ff;border: 1px dotted black;border-radius: 0.25em;box-sizing: border-box;margin-bottom: 0.5em;}#sk-07b2007f-c9be-4697-a2fc-8d82329b56eb div.sk-estimator:hover {background-color: #d4ebff;}#sk-07b2007f-c9be-4697-a2fc-8d82329b56eb div.sk-parallel-item::after {content: \"\";width: 100%;border-bottom: 1px solid gray;flex-grow: 1;}#sk-07b2007f-c9be-4697-a2fc-8d82329b56eb div.sk-label:hover label.sk-toggleable__label {background-color: #d4ebff;}#sk-07b2007f-c9be-4697-a2fc-8d82329b56eb div.sk-serial::before {content: \"\";position: absolute;border-left: 1px solid gray;box-sizing: border-box;top: 2em;bottom: 0;left: 50%;}#sk-07b2007f-c9be-4697-a2fc-8d82329b56eb div.sk-serial {display: flex;flex-direction: column;align-items: center;background-color: white;padding-right: 0.2em;padding-left: 0.2em;}#sk-07b2007f-c9be-4697-a2fc-8d82329b56eb div.sk-item {z-index: 1;}#sk-07b2007f-c9be-4697-a2fc-8d82329b56eb div.sk-parallel {display: flex;align-items: stretch;justify-content: center;background-color: white;}#sk-07b2007f-c9be-4697-a2fc-8d82329b56eb div.sk-parallel::before {content: \"\";position: absolute;border-left: 1px solid gray;box-sizing: border-box;top: 2em;bottom: 0;left: 50%;}#sk-07b2007f-c9be-4697-a2fc-8d82329b56eb div.sk-parallel-item {display: flex;flex-direction: column;position: relative;background-color: white;}#sk-07b2007f-c9be-4697-a2fc-8d82329b56eb div.sk-parallel-item:first-child::after {align-self: flex-end;width: 50%;}#sk-07b2007f-c9be-4697-a2fc-8d82329b56eb div.sk-parallel-item:last-child::after {align-self: flex-start;width: 50%;}#sk-07b2007f-c9be-4697-a2fc-8d82329b56eb div.sk-parallel-item:only-child::after {width: 0;}#sk-07b2007f-c9be-4697-a2fc-8d82329b56eb div.sk-dashed-wrapped {border: 1px dashed gray;margin: 0 0.4em 0.5em 0.4em;box-sizing: border-box;padding-bottom: 0.4em;background-color: white;position: relative;}#sk-07b2007f-c9be-4697-a2fc-8d82329b56eb div.sk-label label {font-family: monospace;font-weight: bold;background-color: white;display: inline-block;line-height: 1.2em;}#sk-07b2007f-c9be-4697-a2fc-8d82329b56eb div.sk-label-container {position: relative;z-index: 2;text-align: center;}#sk-07b2007f-c9be-4697-a2fc-8d82329b56eb div.sk-container {/* jupyter's `normalize.less` sets `[hidden] { display: none; }` but bootstrap.min.css set `[hidden] { display: none !important; }` so we also need the `!important` here to be able to override the default hidden behavior on the sphinx rendered scikit-learn.org. See: https://github.com/scikit-learn/scikit-learn/issues/21755 */display: inline-block !important;position: relative;}#sk-07b2007f-c9be-4697-a2fc-8d82329b56eb div.sk-text-repr-fallback {display: none;}</style><div id=\"sk-07b2007f-c9be-4697-a2fc-8d82329b56eb\" class=\"sk-top-container\"><div class=\"sk-text-repr-fallback\"><pre>GridSearchCV(cv=5,\n",
       "             estimator=Pipeline(steps=[(&#x27;trf1&#x27;,\n",
       "                                        ColumnTransformer(remainder=&#x27;passthrough&#x27;,\n",
       "                                                          transformers=[(&#x27;imputer_numerical&#x27;,\n",
       "                                                                         SimpleImputer(strategy=&#x27;median&#x27;),\n",
       "                                                                         [2]),\n",
       "                                                                        (&#x27;imputer_categorical&#x27;,\n",
       "                                                                         SimpleImputer(strategy=&#x27;most_frequent&#x27;),\n",
       "                                                                         [6])])),\n",
       "                                       (&#x27;trf2&#x27;,\n",
       "                                        ColumnTransformer(remainder=&#x27;passthrough&#x27;,\n",
       "                                                          transformers=[(&#x27;encoding&#x27;,\n",
       "                                                                         OneHotEncoder(handle_unknown=&#x27;ignore&#x27;,\n",
       "                                                                                       sparse=False),\n",
       "                                                                         [1,\n",
       "                                                                          6])])),\n",
       "                                       (&#x27;trf3&#x27;,\n",
       "                                        ColumnTransformer(transformers=[(&#x27;scaler&#x27;,\n",
       "                                                                         MinMaxScaler(),\n",
       "                                                                         slice(0, 10, None))])),\n",
       "                                       (&#x27;trf4&#x27;, LogisticRegression())]),\n",
       "             param_grid={&#x27;trf1__imputer_categorical__strategy&#x27;: [&#x27;most_frequent&#x27;,\n",
       "                                                                 &#x27;constant&#x27;],\n",
       "                         &#x27;trf1__imputer_numerical__strategy&#x27;: [&#x27;mean&#x27;,\n",
       "                                                               &#x27;median&#x27;],\n",
       "                         &#x27;trf4__C&#x27;: [0.1, 1.0, 10, 100]},\n",
       "             scoring=&#x27;accuracy&#x27;)</pre><b>Please rerun this cell to show the HTML repr or trust the notebook.</b></div><div class=\"sk-container\" hidden><div class=\"sk-item sk-dashed-wrapped\"><div class=\"sk-label-container\"><div class=\"sk-label sk-toggleable\"><input class=\"sk-toggleable__control sk-hidden--visually\" id=\"f43ff8c2-e143-4ab5-8e55-ae60a3970ab2\" type=\"checkbox\" ><label for=\"f43ff8c2-e143-4ab5-8e55-ae60a3970ab2\" class=\"sk-toggleable__label sk-toggleable__label-arrow\">GridSearchCV</label><div class=\"sk-toggleable__content\"><pre>GridSearchCV(cv=5,\n",
       "             estimator=Pipeline(steps=[(&#x27;trf1&#x27;,\n",
       "                                        ColumnTransformer(remainder=&#x27;passthrough&#x27;,\n",
       "                                                          transformers=[(&#x27;imputer_numerical&#x27;,\n",
       "                                                                         SimpleImputer(strategy=&#x27;median&#x27;),\n",
       "                                                                         [2]),\n",
       "                                                                        (&#x27;imputer_categorical&#x27;,\n",
       "                                                                         SimpleImputer(strategy=&#x27;most_frequent&#x27;),\n",
       "                                                                         [6])])),\n",
       "                                       (&#x27;trf2&#x27;,\n",
       "                                        ColumnTransformer(remainder=&#x27;passthrough&#x27;,\n",
       "                                                          transformers=[(&#x27;encoding&#x27;,\n",
       "                                                                         OneHotEncoder(handle_unknown=&#x27;ignore&#x27;,\n",
       "                                                                                       sparse=False),\n",
       "                                                                         [1,\n",
       "                                                                          6])])),\n",
       "                                       (&#x27;trf3&#x27;,\n",
       "                                        ColumnTransformer(transformers=[(&#x27;scaler&#x27;,\n",
       "                                                                         MinMaxScaler(),\n",
       "                                                                         slice(0, 10, None))])),\n",
       "                                       (&#x27;trf4&#x27;, LogisticRegression())]),\n",
       "             param_grid={&#x27;trf1__imputer_categorical__strategy&#x27;: [&#x27;most_frequent&#x27;,\n",
       "                                                                 &#x27;constant&#x27;],\n",
       "                         &#x27;trf1__imputer_numerical__strategy&#x27;: [&#x27;mean&#x27;,\n",
       "                                                               &#x27;median&#x27;],\n",
       "                         &#x27;trf4__C&#x27;: [0.1, 1.0, 10, 100]},\n",
       "             scoring=&#x27;accuracy&#x27;)</pre></div></div></div><div class=\"sk-parallel\"><div class=\"sk-parallel-item\"><div class=\"sk-item\"><div class=\"sk-serial\"><div class=\"sk-item\"><div class=\"sk-serial\"><div class=\"sk-item sk-dashed-wrapped\"><div class=\"sk-label-container\"><div class=\"sk-label sk-toggleable\"><input class=\"sk-toggleable__control sk-hidden--visually\" id=\"05f2664b-6b1f-40c1-ae28-f760976947f3\" type=\"checkbox\" ><label for=\"05f2664b-6b1f-40c1-ae28-f760976947f3\" class=\"sk-toggleable__label sk-toggleable__label-arrow\">trf1: ColumnTransformer</label><div class=\"sk-toggleable__content\"><pre>ColumnTransformer(remainder=&#x27;passthrough&#x27;,\n",
       "                  transformers=[(&#x27;imputer_numerical&#x27;,\n",
       "                                 SimpleImputer(strategy=&#x27;median&#x27;), [2]),\n",
       "                                (&#x27;imputer_categorical&#x27;,\n",
       "                                 SimpleImputer(strategy=&#x27;most_frequent&#x27;),\n",
       "                                 [6])])</pre></div></div></div><div class=\"sk-parallel\"><div class=\"sk-parallel-item\"><div class=\"sk-item\"><div class=\"sk-label-container\"><div class=\"sk-label sk-toggleable\"><input class=\"sk-toggleable__control sk-hidden--visually\" id=\"4b5d5ac1-a621-4f3b-a54e-6de6aa392fd0\" type=\"checkbox\" ><label for=\"4b5d5ac1-a621-4f3b-a54e-6de6aa392fd0\" class=\"sk-toggleable__label sk-toggleable__label-arrow\">imputer_numerical</label><div class=\"sk-toggleable__content\"><pre>[2]</pre></div></div></div><div class=\"sk-serial\"><div class=\"sk-item\"><div class=\"sk-estimator sk-toggleable\"><input class=\"sk-toggleable__control sk-hidden--visually\" id=\"14004f9c-0a43-4c81-9ad1-4d0457c89299\" type=\"checkbox\" ><label for=\"14004f9c-0a43-4c81-9ad1-4d0457c89299\" class=\"sk-toggleable__label sk-toggleable__label-arrow\">SimpleImputer</label><div class=\"sk-toggleable__content\"><pre>SimpleImputer(strategy=&#x27;median&#x27;)</pre></div></div></div></div></div></div><div class=\"sk-parallel-item\"><div class=\"sk-item\"><div class=\"sk-label-container\"><div class=\"sk-label sk-toggleable\"><input class=\"sk-toggleable__control sk-hidden--visually\" id=\"5aa64e45-7bd1-4b5b-8d53-66c31b97b75f\" type=\"checkbox\" ><label for=\"5aa64e45-7bd1-4b5b-8d53-66c31b97b75f\" class=\"sk-toggleable__label sk-toggleable__label-arrow\">imputer_categorical</label><div class=\"sk-toggleable__content\"><pre>[6]</pre></div></div></div><div class=\"sk-serial\"><div class=\"sk-item\"><div class=\"sk-estimator sk-toggleable\"><input class=\"sk-toggleable__control sk-hidden--visually\" id=\"0ff028ab-80d8-4abb-b133-5d2e3764437a\" type=\"checkbox\" ><label for=\"0ff028ab-80d8-4abb-b133-5d2e3764437a\" class=\"sk-toggleable__label sk-toggleable__label-arrow\">SimpleImputer</label><div class=\"sk-toggleable__content\"><pre>SimpleImputer(strategy=&#x27;most_frequent&#x27;)</pre></div></div></div></div></div></div><div class=\"sk-parallel-item\"><div class=\"sk-item\"><div class=\"sk-label-container\"><div class=\"sk-label sk-toggleable\"><input class=\"sk-toggleable__control sk-hidden--visually\" id=\"1f1a4567-d252-4161-8e96-4c2febd28b52\" type=\"checkbox\" ><label for=\"1f1a4567-d252-4161-8e96-4c2febd28b52\" class=\"sk-toggleable__label sk-toggleable__label-arrow\">remainder</label><div class=\"sk-toggleable__content\"><pre>[&#x27;Pclass&#x27;, &#x27;Sex&#x27;, &#x27;SibSp&#x27;, &#x27;Parch&#x27;, &#x27;Fare&#x27;]</pre></div></div></div><div class=\"sk-serial\"><div class=\"sk-item\"><div class=\"sk-estimator sk-toggleable\"><input class=\"sk-toggleable__control sk-hidden--visually\" id=\"ef319643-bf80-4082-970a-897ae5c1b4e1\" type=\"checkbox\" ><label for=\"ef319643-bf80-4082-970a-897ae5c1b4e1\" class=\"sk-toggleable__label sk-toggleable__label-arrow\">passthrough</label><div class=\"sk-toggleable__content\"><pre>passthrough</pre></div></div></div></div></div></div></div></div><div class=\"sk-item sk-dashed-wrapped\"><div class=\"sk-label-container\"><div class=\"sk-label sk-toggleable\"><input class=\"sk-toggleable__control sk-hidden--visually\" id=\"572cd5e6-34a4-4b23-ac9f-b7e66c5d0327\" type=\"checkbox\" ><label for=\"572cd5e6-34a4-4b23-ac9f-b7e66c5d0327\" class=\"sk-toggleable__label sk-toggleable__label-arrow\">trf2: ColumnTransformer</label><div class=\"sk-toggleable__content\"><pre>ColumnTransformer(remainder=&#x27;passthrough&#x27;,\n",
       "                  transformers=[(&#x27;encoding&#x27;,\n",
       "                                 OneHotEncoder(handle_unknown=&#x27;ignore&#x27;,\n",
       "                                               sparse=False),\n",
       "                                 [1, 6])])</pre></div></div></div><div class=\"sk-parallel\"><div class=\"sk-parallel-item\"><div class=\"sk-item\"><div class=\"sk-label-container\"><div class=\"sk-label sk-toggleable\"><input class=\"sk-toggleable__control sk-hidden--visually\" id=\"34fe86f4-5d04-4fb0-a761-4da07458aa9d\" type=\"checkbox\" ><label for=\"34fe86f4-5d04-4fb0-a761-4da07458aa9d\" class=\"sk-toggleable__label sk-toggleable__label-arrow\">encoding</label><div class=\"sk-toggleable__content\"><pre>[1, 6]</pre></div></div></div><div class=\"sk-serial\"><div class=\"sk-item\"><div class=\"sk-estimator sk-toggleable\"><input class=\"sk-toggleable__control sk-hidden--visually\" id=\"380739ba-4565-4079-b3d4-b97acdd03941\" type=\"checkbox\" ><label for=\"380739ba-4565-4079-b3d4-b97acdd03941\" class=\"sk-toggleable__label sk-toggleable__label-arrow\">OneHotEncoder</label><div class=\"sk-toggleable__content\"><pre>OneHotEncoder(handle_unknown=&#x27;ignore&#x27;, sparse=False)</pre></div></div></div></div></div></div><div class=\"sk-parallel-item\"><div class=\"sk-item\"><div class=\"sk-label-container\"><div class=\"sk-label sk-toggleable\"><input class=\"sk-toggleable__control sk-hidden--visually\" id=\"267b2af0-4b7e-4a12-800a-42f5e4355a4a\" type=\"checkbox\" ><label for=\"267b2af0-4b7e-4a12-800a-42f5e4355a4a\" class=\"sk-toggleable__label sk-toggleable__label-arrow\">remainder</label><div class=\"sk-toggleable__content\"><pre>[0, 2, 3, 4, 5]</pre></div></div></div><div class=\"sk-serial\"><div class=\"sk-item\"><div class=\"sk-estimator sk-toggleable\"><input class=\"sk-toggleable__control sk-hidden--visually\" id=\"a2e38b6b-d320-4f27-b7ac-830edb2c4a0b\" type=\"checkbox\" ><label for=\"a2e38b6b-d320-4f27-b7ac-830edb2c4a0b\" class=\"sk-toggleable__label sk-toggleable__label-arrow\">passthrough</label><div class=\"sk-toggleable__content\"><pre>passthrough</pre></div></div></div></div></div></div></div></div><div class=\"sk-item sk-dashed-wrapped\"><div class=\"sk-label-container\"><div class=\"sk-label sk-toggleable\"><input class=\"sk-toggleable__control sk-hidden--visually\" id=\"874c3523-42ba-41f9-83d9-d4654a355b37\" type=\"checkbox\" ><label for=\"874c3523-42ba-41f9-83d9-d4654a355b37\" class=\"sk-toggleable__label sk-toggleable__label-arrow\">trf3: ColumnTransformer</label><div class=\"sk-toggleable__content\"><pre>ColumnTransformer(transformers=[(&#x27;scaler&#x27;, MinMaxScaler(), slice(0, 10, None))])</pre></div></div></div><div class=\"sk-parallel\"><div class=\"sk-parallel-item\"><div class=\"sk-item\"><div class=\"sk-label-container\"><div class=\"sk-label sk-toggleable\"><input class=\"sk-toggleable__control sk-hidden--visually\" id=\"1a01ab33-02cf-432b-aa74-54eda2f0c223\" type=\"checkbox\" ><label for=\"1a01ab33-02cf-432b-aa74-54eda2f0c223\" class=\"sk-toggleable__label sk-toggleable__label-arrow\">scaler</label><div class=\"sk-toggleable__content\"><pre>slice(0, 10, None)</pre></div></div></div><div class=\"sk-serial\"><div class=\"sk-item\"><div class=\"sk-estimator sk-toggleable\"><input class=\"sk-toggleable__control sk-hidden--visually\" id=\"d37b2fba-bcb6-492b-9463-924fd30539b8\" type=\"checkbox\" ><label for=\"d37b2fba-bcb6-492b-9463-924fd30539b8\" class=\"sk-toggleable__label sk-toggleable__label-arrow\">MinMaxScaler</label><div class=\"sk-toggleable__content\"><pre>MinMaxScaler()</pre></div></div></div></div></div></div></div></div><div class=\"sk-item\"><div class=\"sk-estimator sk-toggleable\"><input class=\"sk-toggleable__control sk-hidden--visually\" id=\"8d6f4d92-e508-4bc5-9d93-c8498cc0a8f7\" type=\"checkbox\" ><label for=\"8d6f4d92-e508-4bc5-9d93-c8498cc0a8f7\" class=\"sk-toggleable__label sk-toggleable__label-arrow\">LogisticRegression</label><div class=\"sk-toggleable__content\"><pre>LogisticRegression()</pre></div></div></div></div></div></div></div></div></div></div></div></div>"
      ],
      "text/plain": [
       "GridSearchCV(cv=5,\n",
       "             estimator=Pipeline(steps=[('trf1',\n",
       "                                        ColumnTransformer(remainder='passthrough',\n",
       "                                                          transformers=[('imputer_numerical',\n",
       "                                                                         SimpleImputer(strategy='median'),\n",
       "                                                                         [2]),\n",
       "                                                                        ('imputer_categorical',\n",
       "                                                                         SimpleImputer(strategy='most_frequent'),\n",
       "                                                                         [6])])),\n",
       "                                       ('trf2',\n",
       "                                        ColumnTransformer(remainder='passthrough',\n",
       "                                                          transformers=[('encoding',\n",
       "                                                                         OneHotEncoder(handle_unknown='ignore',\n",
       "                                                                                       sparse=False),\n",
       "                                                                         [1,\n",
       "                                                                          6])])),\n",
       "                                       ('trf3',\n",
       "                                        ColumnTransformer(transformers=[('scaler',\n",
       "                                                                         MinMaxScaler(),\n",
       "                                                                         slice(0, 10, None))])),\n",
       "                                       ('trf4', LogisticRegression())]),\n",
       "             param_grid={'trf1__imputer_categorical__strategy': ['most_frequent',\n",
       "                                                                 'constant'],\n",
       "                         'trf1__imputer_numerical__strategy': ['mean',\n",
       "                                                               'median'],\n",
       "                         'trf4__C': [0.1, 1.0, 10, 100]},\n",
       "             scoring='accuracy')"
      ]
     },
     "execution_count": 18,
     "metadata": {},
     "output_type": "execute_result"
    }
   ],
   "source": [
    "param_grid = {\n",
    "    'trf1__imputer_numerical__strategy': ['mean', 'median'],\n",
    "    'trf1__imputer_categorical__strategy': ['most_frequent', 'constant'],\n",
    "    'trf4__C': [0.1, 1.0, 10, 100]\n",
    "}\n",
    "\n",
    "grid_search = GridSearchCV(pipe, param_grid, cv=5, scoring= 'accuracy')\n",
    "grid_search.fit(x_train, y_train)"
   ]
  },
  {
   "cell_type": "code",
   "execution_count": 19,
   "id": "8b9e5671",
   "metadata": {},
   "outputs": [
    {
     "data": {
      "text/plain": [
       "0.6419284940411701"
      ]
     },
     "execution_count": 19,
     "metadata": {},
     "output_type": "execute_result"
    }
   ],
   "source": [
    "grid_search.best_score_"
   ]
  },
  {
   "cell_type": "code",
   "execution_count": 20,
   "id": "15589c3a",
   "metadata": {},
   "outputs": [
    {
     "data": {
      "text/plain": [
       "{'trf1__imputer_categorical__strategy': 'most_frequent',\n",
       " 'trf1__imputer_numerical__strategy': 'mean',\n",
       " 'trf4__C': 0.1}"
      ]
     },
     "execution_count": 20,
     "metadata": {},
     "output_type": "execute_result"
    }
   ],
   "source": [
    "grid_search.best_params_"
   ]
  },
  {
   "cell_type": "markdown",
   "id": "1243c04c",
   "metadata": {},
   "source": [
    "#### Listing all the accuracy scores of different parameters"
   ]
  },
  {
   "cell_type": "code",
   "execution_count": 21,
   "id": "d3ae7dcc",
   "metadata": {},
   "outputs": [
    {
     "data": {
      "text/html": [
       "<div>\n",
       "<style scoped>\n",
       "    .dataframe tbody tr th:only-of-type {\n",
       "        vertical-align: middle;\n",
       "    }\n",
       "\n",
       "    .dataframe tbody tr th {\n",
       "        vertical-align: top;\n",
       "    }\n",
       "\n",
       "    .dataframe thead th {\n",
       "        text-align: right;\n",
       "    }\n",
       "</style>\n",
       "<table border=\"1\" class=\"dataframe\">\n",
       "  <thead>\n",
       "    <tr style=\"text-align: right;\">\n",
       "      <th></th>\n",
       "      <th>param_trf4__C</th>\n",
       "      <th>param_trf1__imputer_numerical__strategy</th>\n",
       "      <th>param_trf1__imputer_categorical__strategy</th>\n",
       "      <th>mean_test_score</th>\n",
       "    </tr>\n",
       "  </thead>\n",
       "  <tbody>\n",
       "    <tr>\n",
       "      <th>0</th>\n",
       "      <td>0.1</td>\n",
       "      <td>mean</td>\n",
       "      <td>most_frequent</td>\n",
       "      <td>0.641928</td>\n",
       "    </tr>\n",
       "    <tr>\n",
       "      <th>1</th>\n",
       "      <td>1.0</td>\n",
       "      <td>mean</td>\n",
       "      <td>most_frequent</td>\n",
       "      <td>0.641928</td>\n",
       "    </tr>\n",
       "    <tr>\n",
       "      <th>4</th>\n",
       "      <td>0.1</td>\n",
       "      <td>median</td>\n",
       "      <td>most_frequent</td>\n",
       "      <td>0.641928</td>\n",
       "    </tr>\n",
       "    <tr>\n",
       "      <th>5</th>\n",
       "      <td>1.0</td>\n",
       "      <td>median</td>\n",
       "      <td>most_frequent</td>\n",
       "      <td>0.641928</td>\n",
       "    </tr>\n",
       "    <tr>\n",
       "      <th>8</th>\n",
       "      <td>0.1</td>\n",
       "      <td>mean</td>\n",
       "      <td>constant</td>\n",
       "      <td>0.641928</td>\n",
       "    </tr>\n",
       "    <tr>\n",
       "      <th>9</th>\n",
       "      <td>1.0</td>\n",
       "      <td>mean</td>\n",
       "      <td>constant</td>\n",
       "      <td>0.641928</td>\n",
       "    </tr>\n",
       "    <tr>\n",
       "      <th>12</th>\n",
       "      <td>0.1</td>\n",
       "      <td>median</td>\n",
       "      <td>constant</td>\n",
       "      <td>0.641928</td>\n",
       "    </tr>\n",
       "    <tr>\n",
       "      <th>13</th>\n",
       "      <td>1.0</td>\n",
       "      <td>median</td>\n",
       "      <td>constant</td>\n",
       "      <td>0.641928</td>\n",
       "    </tr>\n",
       "    <tr>\n",
       "      <th>2</th>\n",
       "      <td>10</td>\n",
       "      <td>mean</td>\n",
       "      <td>most_frequent</td>\n",
       "      <td>0.640520</td>\n",
       "    </tr>\n",
       "    <tr>\n",
       "      <th>3</th>\n",
       "      <td>100</td>\n",
       "      <td>mean</td>\n",
       "      <td>most_frequent</td>\n",
       "      <td>0.640520</td>\n",
       "    </tr>\n",
       "    <tr>\n",
       "      <th>6</th>\n",
       "      <td>10</td>\n",
       "      <td>median</td>\n",
       "      <td>most_frequent</td>\n",
       "      <td>0.640520</td>\n",
       "    </tr>\n",
       "    <tr>\n",
       "      <th>7</th>\n",
       "      <td>100</td>\n",
       "      <td>median</td>\n",
       "      <td>most_frequent</td>\n",
       "      <td>0.640520</td>\n",
       "    </tr>\n",
       "    <tr>\n",
       "      <th>10</th>\n",
       "      <td>10</td>\n",
       "      <td>mean</td>\n",
       "      <td>constant</td>\n",
       "      <td>0.640520</td>\n",
       "    </tr>\n",
       "    <tr>\n",
       "      <th>11</th>\n",
       "      <td>100</td>\n",
       "      <td>mean</td>\n",
       "      <td>constant</td>\n",
       "      <td>0.640520</td>\n",
       "    </tr>\n",
       "    <tr>\n",
       "      <th>14</th>\n",
       "      <td>10</td>\n",
       "      <td>median</td>\n",
       "      <td>constant</td>\n",
       "      <td>0.640520</td>\n",
       "    </tr>\n",
       "    <tr>\n",
       "      <th>15</th>\n",
       "      <td>100</td>\n",
       "      <td>median</td>\n",
       "      <td>constant</td>\n",
       "      <td>0.640520</td>\n",
       "    </tr>\n",
       "  </tbody>\n",
       "</table>\n",
       "</div>"
      ],
      "text/plain": [
       "   param_trf4__C param_trf1__imputer_numerical__strategy  \\\n",
       "0            0.1                                    mean   \n",
       "1            1.0                                    mean   \n",
       "4            0.1                                  median   \n",
       "5            1.0                                  median   \n",
       "8            0.1                                    mean   \n",
       "9            1.0                                    mean   \n",
       "12           0.1                                  median   \n",
       "13           1.0                                  median   \n",
       "2             10                                    mean   \n",
       "3            100                                    mean   \n",
       "6             10                                  median   \n",
       "7            100                                  median   \n",
       "10            10                                    mean   \n",
       "11           100                                    mean   \n",
       "14            10                                  median   \n",
       "15           100                                  median   \n",
       "\n",
       "   param_trf1__imputer_categorical__strategy  mean_test_score  \n",
       "0                              most_frequent         0.641928  \n",
       "1                              most_frequent         0.641928  \n",
       "4                              most_frequent         0.641928  \n",
       "5                              most_frequent         0.641928  \n",
       "8                                   constant         0.641928  \n",
       "9                                   constant         0.641928  \n",
       "12                                  constant         0.641928  \n",
       "13                                  constant         0.641928  \n",
       "2                              most_frequent         0.640520  \n",
       "3                              most_frequent         0.640520  \n",
       "6                              most_frequent         0.640520  \n",
       "7                              most_frequent         0.640520  \n",
       "10                                  constant         0.640520  \n",
       "11                                  constant         0.640520  \n",
       "14                                  constant         0.640520  \n",
       "15                                  constant         0.640520  "
      ]
     },
     "execution_count": 21,
     "metadata": {},
     "output_type": "execute_result"
    }
   ],
   "source": [
    "cv_results = pd.DataFrame(grid_search.cv_results_)\n",
    "cv_results = cv_results.sort_values(\"mean_test_score\", ascending=False)\n",
    "cv_results[['param_trf4__C','param_trf1__imputer_numerical__strategy','param_trf1__imputer_categorical__strategy','mean_test_score']]"
   ]
  }
 ],
 "metadata": {
  "kernelspec": {
   "display_name": "Python 3 (ipykernel)",
   "language": "python",
   "name": "python3"
  },
  "language_info": {
   "codemirror_mode": {
    "name": "ipython",
    "version": 3
   },
   "file_extension": ".py",
   "mimetype": "text/x-python",
   "name": "python",
   "nbconvert_exporter": "python",
   "pygments_lexer": "ipython3",
   "version": "3.9.13"
  }
 },
 "nbformat": 4,
 "nbformat_minor": 5
}
