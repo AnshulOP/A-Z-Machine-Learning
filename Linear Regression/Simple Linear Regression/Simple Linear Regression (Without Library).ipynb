{
 "cells": [
  {
   "cell_type": "markdown",
   "id": "eb431574",
   "metadata": {},
   "source": [
    "#### Creating Class to call for our Regression algorithm"
   ]
  },
  {
   "cell_type": "code",
   "execution_count": 1,
   "id": "9ee07be4",
   "metadata": {},
   "outputs": [],
   "source": [
    "class MyLinearRegression:\n",
    "    \n",
    "    def __init__(self):\n",
    "        self.slope = None\n",
    "        self.intercept = None\n",
    "        \n",
    "    def fit(self,x_train,y_train):\n",
    "        \n",
    "        numerator = 0\n",
    "        denomenator = 0\n",
    "        \n",
    "        for i in range(x_train.shape[0]):\n",
    "            \n",
    "            numerator = numerator + ((x_train[i] - x_train.mean())*(y_train[i] - y_train.mean()))\n",
    "            denomenator = denomenator + ((x_train[i] - x_train.mean())*(x_train[i] - x_train.mean()))\n",
    "        \n",
    "        self.slope = numerator/denomenator\n",
    "        self.intercept = y_train.mean() - (self.slope * x_train.mean())\n",
    "        print('Value of Slope obtained:',self.slope)\n",
    "        print('Value of Intercept obtained:',self.intercept)       \n",
    "    \n",
    "    def predict(self,x_test):\n",
    "        \n",
    "        print('Value of test data used :', x_test)\n",
    "        \n",
    "        return self.slope * x_test + self.intercept"
   ]
  },
  {
   "cell_type": "markdown",
   "id": "2c664bb5",
   "metadata": {},
   "source": [
    "#### Importing the Libraries"
   ]
  },
  {
   "cell_type": "code",
   "execution_count": 2,
   "id": "2fee6f7c",
   "metadata": {},
   "outputs": [],
   "source": [
    "import numpy as np\n",
    "import pandas as pd"
   ]
  },
  {
   "cell_type": "markdown",
   "id": "8dddf9a6",
   "metadata": {},
   "source": [
    "#### Importing the Dataset"
   ]
  },
  {
   "cell_type": "code",
   "execution_count": 3,
   "id": "6c58b8dd",
   "metadata": {},
   "outputs": [
    {
     "data": {
      "text/html": [
       "<div>\n",
       "<style scoped>\n",
       "    .dataframe tbody tr th:only-of-type {\n",
       "        vertical-align: middle;\n",
       "    }\n",
       "\n",
       "    .dataframe tbody tr th {\n",
       "        vertical-align: top;\n",
       "    }\n",
       "\n",
       "    .dataframe thead th {\n",
       "        text-align: right;\n",
       "    }\n",
       "</style>\n",
       "<table border=\"1\" class=\"dataframe\">\n",
       "  <thead>\n",
       "    <tr style=\"text-align: right;\">\n",
       "      <th></th>\n",
       "      <th>YearsExperience</th>\n",
       "      <th>Salary</th>\n",
       "    </tr>\n",
       "  </thead>\n",
       "  <tbody>\n",
       "    <tr>\n",
       "      <th>0</th>\n",
       "      <td>1.1</td>\n",
       "      <td>39343.0</td>\n",
       "    </tr>\n",
       "    <tr>\n",
       "      <th>1</th>\n",
       "      <td>1.3</td>\n",
       "      <td>46205.0</td>\n",
       "    </tr>\n",
       "    <tr>\n",
       "      <th>2</th>\n",
       "      <td>1.5</td>\n",
       "      <td>37731.0</td>\n",
       "    </tr>\n",
       "    <tr>\n",
       "      <th>3</th>\n",
       "      <td>2.0</td>\n",
       "      <td>43525.0</td>\n",
       "    </tr>\n",
       "    <tr>\n",
       "      <th>4</th>\n",
       "      <td>2.2</td>\n",
       "      <td>39891.0</td>\n",
       "    </tr>\n",
       "  </tbody>\n",
       "</table>\n",
       "</div>"
      ],
      "text/plain": [
       "   YearsExperience   Salary\n",
       "0              1.1  39343.0\n",
       "1              1.3  46205.0\n",
       "2              1.5  37731.0\n",
       "3              2.0  43525.0\n",
       "4              2.2  39891.0"
      ]
     },
     "execution_count": 3,
     "metadata": {},
     "output_type": "execute_result"
    }
   ],
   "source": [
    "dataset = pd.read_csv('Salary_Data.csv')\n",
    "dataset.head()"
   ]
  },
  {
   "cell_type": "code",
   "execution_count": 4,
   "id": "50599cf6",
   "metadata": {},
   "outputs": [],
   "source": [
    "x = dataset.iloc[:,0].values\n",
    "y = dataset.iloc[:,1].values"
   ]
  },
  {
   "cell_type": "markdown",
   "id": "9fb521b7",
   "metadata": {},
   "source": [
    "#### Splitting the data into train and test data"
   ]
  },
  {
   "cell_type": "code",
   "execution_count": 5,
   "id": "9f22ae45",
   "metadata": {},
   "outputs": [],
   "source": [
    "from sklearn.model_selection import train_test_split\n",
    "x_train,x_test,y_train,y_test = train_test_split(x,y,test_size=0.25,random_state=10)"
   ]
  },
  {
   "cell_type": "code",
   "execution_count": 6,
   "id": "2c14c0ab",
   "metadata": {},
   "outputs": [
    {
     "data": {
      "text/plain": [
       "(22,)"
      ]
     },
     "execution_count": 6,
     "metadata": {},
     "output_type": "execute_result"
    }
   ],
   "source": [
    "x_train.shape"
   ]
  },
  {
   "cell_type": "markdown",
   "id": "e5f6fdfd",
   "metadata": {},
   "source": [
    "#### Importing self created algorithm class"
   ]
  },
  {
   "cell_type": "code",
   "execution_count": 7,
   "id": "929adf40",
   "metadata": {},
   "outputs": [],
   "source": [
    "regressor = MyLinearRegression()"
   ]
  },
  {
   "cell_type": "code",
   "execution_count": 8,
   "id": "8e28c323",
   "metadata": {},
   "outputs": [
    {
     "name": "stdout",
     "output_type": "stream",
     "text": [
      "Value of Slope obtained: 9371.740347039335\n",
      "Value of Intercept obtained: 26490.605890536055\n"
     ]
    }
   ],
   "source": [
    "regressor.fit(x_train, y_train)"
   ]
  },
  {
   "cell_type": "markdown",
   "id": "200308fc",
   "metadata": {},
   "source": [
    "#### Predicting test data results using self created algorithm class"
   ]
  },
  {
   "cell_type": "code",
   "execution_count": 13,
   "id": "555fbf54",
   "metadata": {},
   "outputs": [
    {
     "name": "stdout",
     "output_type": "stream",
     "text": [
      "Value of test data used : 2.0\n"
     ]
    },
    {
     "data": {
      "text/plain": [
       "45234.08658461472"
      ]
     },
     "execution_count": 13,
     "metadata": {},
     "output_type": "execute_result"
    }
   ],
   "source": [
    "(regressor.predict(x_test[4]))"
   ]
  },
  {
   "cell_type": "code",
   "execution_count": 11,
   "id": "a0520346",
   "metadata": {},
   "outputs": [
    {
     "name": "stdout",
     "output_type": "stream",
     "text": [
      "Value of test data used : [6.8 3.2 2.9 1.5 2.  7.1 4.1 9.6]\n"
     ]
    }
   ],
   "source": [
    "y_pred = (regressor.predict(x_test))"
   ]
  },
  {
   "cell_type": "markdown",
   "id": "5a0abd30",
   "metadata": {},
   "source": [
    "#### Evaluating our model Accuracy"
   ]
  },
  {
   "cell_type": "code",
   "execution_count": 12,
   "id": "b7d660e6",
   "metadata": {},
   "outputs": [
    {
     "data": {
      "text/plain": [
       "0.9743491840556768"
      ]
     },
     "execution_count": 12,
     "metadata": {},
     "output_type": "execute_result"
    }
   ],
   "source": [
    "from sklearn.metrics import r2_score\n",
    "score = r2_score(y_pred, y_test)\n",
    "score"
   ]
  }
 ],
 "metadata": {
  "kernelspec": {
   "display_name": "Python 3 (ipykernel)",
   "language": "python",
   "name": "python3"
  },
  "language_info": {
   "codemirror_mode": {
    "name": "ipython",
    "version": 3
   },
   "file_extension": ".py",
   "mimetype": "text/x-python",
   "name": "python",
   "nbconvert_exporter": "python",
   "pygments_lexer": "ipython3",
   "version": "3.9.13"
  }
 },
 "nbformat": 4,
 "nbformat_minor": 5
}
